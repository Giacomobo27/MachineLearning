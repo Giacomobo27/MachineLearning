{
  "nbformat": 4,
  "nbformat_minor": 0,
  "metadata": {
    "colab": {
      "provenance": []
    },
    "kernelspec": {
      "name": "python3",
      "display_name": "Python 3"
    },
    "language_info": {
      "name": "python"
    }
  },
  "cells": [
    {
      "cell_type": "markdown",
      "source": [
        "Task1"
      ],
      "metadata": {
        "id": "_ckRP9OyOdSu"
      }
    },
    {
      "cell_type": "code",
      "source": [
        "import pandas as pd\n",
        "from sklearn.model_selection import train_test_split, GridSearchCV, cross_val_score\n",
        "from sklearn.tree import DecisionTreeClassifier\n",
        "from sklearn.linear_model import LogisticRegression\n",
        "import matplotlib.pyplot as plt\n",
        "from sklearn.ensemble import RandomForestClassifier # Import RandomForestClassifier"
      ],
      "metadata": {
        "id": "_ugY3C9gOiV_"
      },
      "execution_count": 2,
      "outputs": []
    },
    {
      "cell_type": "code",
      "source": [
        "df = pd.read_csv('Student_Perf.csv')"
      ],
      "metadata": {
        "id": "HwQXIcdpPJ8n"
      },
      "execution_count": 4,
      "outputs": []
    },
    {
      "cell_type": "code",
      "source": [
        "print(df.head())"
      ],
      "metadata": {
        "colab": {
          "base_uri": "https://localhost:8080/",
          "height": 0
        },
        "id": "QT3lTwCOP4pv",
        "outputId": "fecf7c29-c9d3-48e5-b73c-49a6efc46387"
      },
      "execution_count": 5,
      "outputs": [
        {
          "output_type": "stream",
          "name": "stdout",
          "text": [
            "   Unnamed: 0  school  sex  age  address  famsize  Pstatus  Medu  Fedu  \\\n",
            "0           0     0.0  0.0   18      1.0      0.0      0.0   4.0   4.0   \n",
            "1           1     0.0  0.0   17      1.0      0.0      1.0   1.0   1.0   \n",
            "2           2     0.0  0.0   15      1.0      1.0      1.0   1.0   1.0   \n",
            "3           3     0.0  0.0   15      1.0      0.0      1.0   4.0   2.0   \n",
            "4           4     0.0  0.0   16      1.0      0.0      1.0   3.0   3.0   \n",
            "\n",
            "   reason  ...  internet  romantic  famrel  freetime  goout  Dalc  Walc  \\\n",
            "0     0.0  ...       0.0       0.0     3.0       2.0    3.0   0.0   0.0   \n",
            "1     0.0  ...       1.0       0.0     4.0       2.0    2.0   0.0   0.0   \n",
            "2     2.0  ...       1.0       0.0     3.0       2.0    1.0   1.0   2.0   \n",
            "3     1.0  ...       1.0       1.0     2.0       1.0    1.0   0.0   0.0   \n",
            "4     1.0  ...       0.0       0.0     3.0       2.0    1.0   0.0   1.0   \n",
            "\n",
            "   health  absences  outcome  \n",
            "0     2.0       4.0      Low  \n",
            "1     2.0       2.0      Low  \n",
            "2     2.0       6.0      Low  \n",
            "3     4.0       0.0     High  \n",
            "4     4.0       0.0     High  \n",
            "\n",
            "[5 rows x 30 columns]\n"
          ]
        }
      ]
    },
    {
      "cell_type": "markdown",
      "source": [
        "school  sex  age  address  famsize  Pstatus  Medu  Fedu reason internet  romantic  famrel  freetime  goout  Dalc  Walc  health  absences are the features,\n",
        "while outcome is the target"
      ],
      "metadata": {
        "id": "ofi8rex_834V"
      }
    },
    {
      "cell_type": "code",
      "source": [
        "X = df.drop(['Unnamed: 0', 'outcome'], axis=1)  # Drop the 'Unnamed: 0' index column and 'outcome' target column\n",
        "y = df['outcome']  # 'outcome' is the target variable"
      ],
      "metadata": {
        "id": "YHfOJuujQKbr"
      },
      "execution_count": 6,
      "outputs": []
    },
    {
      "cell_type": "code",
      "source": [
        "# Baseline Models\n",
        "# Decision Tree without regularization (with Cross-Validation)\n",
        "dt_model = DecisionTreeClassifier(random_state=42)\n",
        "dt_cv_scores = cross_val_score(dt_model, X, y, cv=5, scoring='accuracy')  # 5-fold cross-validation\n",
        "accuracy_dt = dt_cv_scores.mean()\n",
        "print(\"Decision Tree Accuracy:\", accuracy_dt)"
      ],
      "metadata": {
        "colab": {
          "base_uri": "https://localhost:8080/",
          "height": 0
        },
        "id": "8Co2prMsS2Sv",
        "outputId": "86a0daf0-abc8-487c-d8b8-4ce4296c02f6"
      },
      "execution_count": 7,
      "outputs": [
        {
          "output_type": "stream",
          "name": "stdout",
          "text": [
            "Decision Tree Accuracy: 0.5994036970781156\n"
          ]
        }
      ]
    },
    {
      "cell_type": "code",
      "source": [
        "# Logistic Regression without regularization (with Cross-Validation)\n",
        "lr_model = LogisticRegression(solver='liblinear', random_state=42)\n",
        "lr_cv_scores = cross_val_score(lr_model, X, y, cv=5, scoring='accuracy')  # 5-fold cross-validation\n",
        "accuracy_lr = lr_cv_scores.mean()\n",
        "print(\"Logistic Regression Accuracy:\", accuracy_lr)"
      ],
      "metadata": {
        "colab": {
          "base_uri": "https://localhost:8080/",
          "height": 0
        },
        "id": "SjsWZEbUTB2t",
        "outputId": "60b84f6b-5979-4396-8a16-1ec4aeda978d"
      },
      "execution_count": 8,
      "outputs": [
        {
          "output_type": "stream",
          "name": "stdout",
          "text": [
            "Logistic Regression Accuracy: 0.6655098389982111\n"
          ]
        }
      ]
    },
    {
      "cell_type": "markdown",
      "source": [
        "Now lets regularize them and improve the accuracy, let's start with the decisione tree and choosing max_depth as the parameter to work on."
      ],
      "metadata": {
        "id": "ykJ134nA9iU_"
      }
    },
    {
      "cell_type": "code",
      "source": [
        "param_grid_dt = {\n",
        "    'max_depth': [3, 5, 7, 10, 12, 15, None], #parameter selected is max_depth\n",
        "\n",
        "}\n",
        "grid_search_dt = GridSearchCV(\n",
        "    DecisionTreeClassifier(random_state=42),\n",
        "    param_grid_dt,\n",
        "    cv=5,\n",
        "    scoring='accuracy'\n",
        ")\n",
        "\n",
        "grid_search_dt.fit(X, y)\n",
        "best_dt_model = grid_search_dt.best_estimator_\n",
        "\n",
        "print(\"Best Hyperparameters:\", grid_search_dt.best_params_)"
      ],
      "metadata": {
        "colab": {
          "base_uri": "https://localhost:8080/",
          "height": 0
        },
        "id": "tWSqCAaDWOjj",
        "outputId": "246c0ca2-ecdb-4d50-dab2-242a0162e1b1"
      },
      "execution_count": 9,
      "outputs": [
        {
          "output_type": "stream",
          "name": "stdout",
          "text": [
            "Best Hyperparameters: {'max_depth': 7}\n"
          ]
        }
      ]
    },
    {
      "cell_type": "code",
      "source": [
        "# Evaluate the tuned Decision Tree using cross-validation\n",
        "dt_tuned_cv_scores = cross_val_score(best_dt_model, X, y, cv=5, scoring='accuracy')\n",
        "accuracy_dt_tuned = dt_tuned_cv_scores.mean()\n",
        "print(\"Tuned Decision Tree Accuracy:\", accuracy_dt_tuned)"
      ],
      "metadata": {
        "colab": {
          "base_uri": "https://localhost:8080/",
          "height": 0
        },
        "id": "C3vVMNyiVriB",
        "outputId": "00e5f570-12bf-4e09-dc77-06f7e31c0cdf"
      },
      "execution_count": 14,
      "outputs": [
        {
          "output_type": "stream",
          "name": "stdout",
          "text": [
            "Tuned Decision Tree Accuracy: 0.6209660107334527\n"
          ]
        }
      ]
    },
    {
      "cell_type": "markdown",
      "source": [
        "HUGE IMPROVEMENTS!\n",
        "Now let's work on the Logistic Regression using L1 regularization"
      ],
      "metadata": {
        "id": "uAj96AGyZClv"
      }
    },
    {
      "cell_type": "code",
      "source": [
        "param_grid_lr = {\n",
        "    'C': [0.5, 0.7, 1, 1.2, 1.5, 2],\n",
        "    'penalty': ['l1'],  # L1 regularization\n",
        "    'solver': ['liblinear', 'saga']  # Try different solvers\n",
        "}\n",
        "\n",
        "grid_search_lr = GridSearchCV(\n",
        "    LogisticRegression(random_state=42, max_iter=2000),  # Increase max_iter\n",
        "    param_grid_lr,\n",
        "    cv=5,\n",
        "    scoring='accuracy',\n",
        "    n_jobs=-1  # Use all available CPU cores for faster processing\n",
        ")\n",
        "\n",
        "grid_search_lr.fit(X, y)\n",
        "best_lr_model = grid_search_lr.best_estimator_\n",
        "\n",
        "print(\"Best Hyperparameters:\", grid_search_lr.best_params_)"
      ],
      "metadata": {
        "colab": {
          "base_uri": "https://localhost:8080/"
        },
        "id": "ZvJNwL-wZt34",
        "outputId": "f554d8f1-4910-4c96-f2fe-be72502b9b58"
      },
      "execution_count": 27,
      "outputs": [
        {
          "output_type": "stream",
          "name": "stdout",
          "text": [
            "Best Hyperparameters: {'C': 1.5, 'penalty': 'l1', 'solver': 'saga'}\n"
          ]
        }
      ]
    },
    {
      "cell_type": "code",
      "source": [
        "# Evaluate the tuned Logistic Regression using cross-validation\n",
        "lr_tuned_cv_scores = cross_val_score(best_lr_model, X, y, cv=5, scoring='accuracy')\n",
        "accuracy_lr_tuned = lr_tuned_cv_scores.mean()\n",
        "print(\"Tuned Logistic Regression Accuracy:\", accuracy_lr_tuned)"
      ],
      "metadata": {
        "colab": {
          "base_uri": "https://localhost:8080/"
        },
        "id": "m3bk2_beZS-p",
        "outputId": "d8425083-3886-4511-e991-2d5d5a305366"
      },
      "execution_count": 28,
      "outputs": [
        {
          "output_type": "stream",
          "name": "stdout",
          "text": [
            "Tuned Logistic Regression Accuracy: 0.6716636851520572\n"
          ]
        }
      ]
    },
    {
      "cell_type": "markdown",
      "source": [
        "IMPROVEMENT!\n",
        "Now lets plot the results and the chart"
      ],
      "metadata": {
        "id": "DoV_8hUiaX8Z"
      }
    },
    {
      "cell_type": "code",
      "source": [
        "\n",
        "# Prepare data for plotting\n",
        "models = ['Decision Tree', 'Logistic Regression', 'Tuned D.T.', 'Tuned L.R.']\n",
        "accuracies = [accuracy_dt, accuracy_lr, accuracy_dt_tuned, accuracy_lr_tuned]\n",
        "\n",
        "# Create bar chart\n",
        "plt.bar(models, accuracies, color=['blue', 'green', 'orange', 'red'])\n",
        "plt.xlabel('Model')\n",
        "plt.ylabel('Accuracy')\n",
        "plt.title('Model Accuracy Comparison (with Cross-Validation)')\n",
        "plt.show()\n",
        "\n",
        "# Print out the accuracy results\n",
        "print(f\"Decision Tree Acc. (Baseline) with CV: {accuracy_dt}\")\n",
        "print(f\"Logistic Regression Acc. (Baseline) with CV: {accuracy_lr}\")\n",
        "print(f\"Tuned Decision Tree Acc. with CV: {accuracy_dt_tuned}\")\n",
        "print(f\"Tuned Logistic Regression Acc. with CV: {accuracy_lr_tuned}\")\n"
      ],
      "metadata": {
        "colab": {
          "base_uri": "https://localhost:8080/",
          "height": 545
        },
        "id": "hpGWG7n9af43",
        "outputId": "d61d864d-69f9-48ea-cfe6-42e7bd095ae9"
      },
      "execution_count": 29,
      "outputs": [
        {
          "output_type": "display_data",
          "data": {
            "text/plain": [
              "<Figure size 640x480 with 1 Axes>"
            ],
            "image/png": "[encoded data removed]"
          },
          "metadata": {}
        },
        {
          "output_type": "stream",
          "name": "stdout",
          "text": [
            "Decision Tree Acc. (Baseline) with CV: 0.5994036970781156\n",
            "Logistic Regression Acc. (Baseline) with CV: 0.6655098389982111\n",
            "Tuned Decision Tree Acc. with CV: 0.6209660107334527\n",
            "Tuned Logistic Regression Acc. with CV: 0.6716636851520572\n"
          ]
        }
      ]
    },
    {
      "cell_type": "markdown",
      "source": [
        "As we can see, after the implementation of the tuning using GridSearch to find the best hyperparameter value, we had a noticible improvement in the accurary, tests are done in a cross-validation framework"
      ],
      "metadata": {
        "id": "r86u8WE8bBG6"
      }
    },
    {
      "cell_type": "markdown",
      "source": [
        "Task2"
      ],
      "metadata": {
        "id": "piAw0x4o6Bvh"
      }
    },
    {
      "cell_type": "markdown",
      "source": [
        "In the Tuned Decision Tree, regularization is achieved by controlling the hyperparameter max_depth. this force the tree to grow smaller and use fewer features. Once the model is trained, we can examine the feature importance to see which features were most important in making splits."
      ],
      "metadata": {
        "id": "NbuSrFJOBIen"
      }
    },
    {
      "cell_type": "code",
      "source": [
        "\n",
        "# Get feature importances from the tuned decision tree model\n",
        "importances = best_dt_model.feature_importances_\n",
        "features = X.columns\n",
        "\n",
        "feature_importance_df = pd.DataFrame({'Feature': features, 'Importance': importances})\n",
        "feature_importance_df = feature_importance_df.sort_values(by='Importance', ascending=False)\n",
        "\n",
        "# Display features that have importance > 0 (selected features)\n",
        "selected_features_dt = feature_importance_df[feature_importance_df['Importance'] > 0]\n",
        "\n",
        "# Display the features that were not selected (Importance = 0)\n",
        "not_selected_features_dt = feature_importance_df[feature_importance_df['Importance'] == 0]\n",
        "\n",
        "print(\"Selected Features for Tuned Decision Tree:\")\n",
        "print(selected_features_dt)\n",
        "\n",
        "print(\"\\nNot Selected Features for Tuned Decision Tree:\")\n",
        "print(not_selected_features_dt)"
      ],
      "metadata": {
        "colab": {
          "base_uri": "https://localhost:8080/"
        },
        "id": "vx6_9qTE6ERV",
        "outputId": "cc9f2f84-fc30-4a6a-ab63-315c22ca4434"
      },
      "execution_count": 35,
      "outputs": [
        {
          "output_type": "stream",
          "name": "stdout",
          "text": [
            "Selected Features for Tuned Decision Tree:\n",
            "       Feature  Importance\n",
            "12    failures    0.220681\n",
            "18      higher    0.098005\n",
            "11   studytime    0.068200\n",
            "27    absences    0.065453\n",
            "14      famsup    0.058410\n",
            "25        Walc    0.053734\n",
            "26      health    0.051358\n",
            "13   schoolsup    0.050372\n",
            "1          sex    0.045031\n",
            "2          age    0.042972\n",
            "6         Medu    0.042522\n",
            "7         Fedu    0.038374\n",
            "0       school    0.035118\n",
            "22    freetime    0.033173\n",
            "10  traveltime    0.021622\n",
            "20    romantic    0.017674\n",
            "8       reason    0.017196\n",
            "24        Dalc    0.014503\n",
            "16  activities    0.013256\n",
            "21      famrel    0.012344\n",
            "\n",
            "Not Selected Features for Tuned Decision Tree:\n",
            "     Feature  Importance\n",
            "19  internet         0.0\n",
            "17   nursery         0.0\n",
            "15      paid         0.0\n",
            "23     goout         0.0\n",
            "3    address         0.0\n",
            "4    famsize         0.0\n",
            "9   guardian         0.0\n",
            "5    Pstatus         0.0\n"
          ]
        }
      ]
    },
    {
      "cell_type": "markdown",
      "source": [
        "features with high importance values are considered selected, while features with zero importance were not used in the tree.\n"
      ],
      "metadata": {
        "id": "2kdvXQ4ACPpn"
      }
    },
    {
      "cell_type": "markdown",
      "source": [
        "Let's look at the coefficients of the Logistic Regression with L1 regularization model. Features with non-zero coefficients are considered selected, and those with zero coefficients are excluded."
      ],
      "metadata": {
        "id": "dmClEYmbCFdJ"
      }
    },
    {
      "cell_type": "code",
      "source": [
        "\n",
        "coefficients = best_lr_model.coef_.flatten()\n",
        "features = X.columns\n",
        "feature_coeff_df = pd.DataFrame({'Feature': features, 'Coefficient': coefficients})\n",
        "selected_features_lr = feature_coeff_df[feature_coeff_df['Coefficient'] != 0]\n",
        "not_selected_features_lr = feature_coeff_df[feature_coeff_df['Coefficient'] == 0]\n",
        "\n",
        "# Print out the selected and not selected features\n",
        "print(\"Selected Features for Logistic Regression (L1 Regularization):\")\n",
        "print(selected_features_lr)\n",
        "\n",
        "print(\"\\nNot Selected Features for Logistic Regression (L1 Regularization):\")\n",
        "print(not_selected_features_lr)\n"
      ],
      "metadata": {
        "colab": {
          "base_uri": "https://localhost:8080/"
        },
        "id": "OpMFQPUaE63-",
        "outputId": "51cfe01c-2a50-427f-fd20-388a2a5868a6"
      },
      "execution_count": 34,
      "outputs": [
        {
          "output_type": "stream",
          "name": "stdout",
          "text": [
            "Selected Features for Logistic Regression (L1 Regularization):\n",
            "       Feature  Coefficient\n",
            "0       school     0.703370\n",
            "1          sex     0.516112\n",
            "2          age    -0.133738\n",
            "3      address    -0.409309\n",
            "4      famsize     0.221165\n",
            "5      Pstatus     0.361236\n",
            "6         Medu    -0.179990\n",
            "7         Fedu    -0.164206\n",
            "8       reason    -0.022452\n",
            "9     guardian     0.104745\n",
            "10  traveltime    -0.031791\n",
            "11   studytime    -0.246174\n",
            "12    failures     1.627921\n",
            "13   schoolsup     1.130514\n",
            "14      famsup     0.104650\n",
            "15        paid     0.309291\n",
            "16  activities    -0.148175\n",
            "17     nursery    -0.071311\n",
            "18      higher    -1.862221\n",
            "19    internet    -0.240343\n",
            "20    romantic     0.153740\n",
            "21      famrel    -0.132077\n",
            "22    freetime     0.054588\n",
            "23       goout     0.087674\n",
            "24        Dalc     0.314554\n",
            "25        Walc     0.047245\n",
            "26      health     0.190371\n",
            "27    absences     0.081800\n",
            "\n",
            "Not Selected Features for Logistic Regression (L1 Regularization):\n",
            "Empty DataFrame\n",
            "Columns: [Feature, Coefficient]\n",
            "Index: []\n"
          ]
        }
      ]
    },
    {
      "cell_type": "markdown",
      "source": [
        "Features like school, sex, failures, schoolsup, studytime, and paid have relatively higher coefficients, therefore they have a strong influence on the model's predictions.\n",
        "\n",
        "Some features with negative coefficients (address, age, higher, internet, etc.) suggest they negatively influence the probability of the class (outcome)\n",
        "\n",
        "No features were excluded by the L1 regularization, that means that all features were considereduseful in the model.\n"
      ],
      "metadata": {
        "id": "8tPVSRCYFk3e"
      }
    },
    {
      "cell_type": "markdown",
      "source": [
        "Comment:\n",
        "\n",
        "Are the selections stable (consistent across\n",
        "different runs)?\n",
        "\n",
        "Since no features were excluded, this model appears stable in terms of regularization, as it uses all features, but with varying levels of importance\n",
        "\n",
        "The Decision Tree stability is more dependands to the chosen hyperparameters( max_depth in this case), because Decision Trees can exhibit randomness in their tree construction, but through cross-validation and Tuning the stability of feature selection is improved."
      ],
      "metadata": {
        "id": "OrZExCZdGQxh"
      }
    },
    {
      "cell_type": "markdown",
      "source": [
        "In Conclusion both models show a degree of stability in selecting important features. However, the Decision Tree might show slight variations across runs due to its random nature.\n",
        "\n",
        "Is there agreement between the logistic regression and\n",
        "decision tree models?\n",
        "\n",
        "There is some agreement between the models on important features ( ex. failures, higher, studytime). However, the models also disagree on which features to prioritize, for example Logistic Regression includes all features and the Decision Tree ignoring some features entirely, working thus with a smaller subset of features."
      ],
      "metadata": {
        "id": "fJyEsmDNIIvo"
      }
    }
  ]
}
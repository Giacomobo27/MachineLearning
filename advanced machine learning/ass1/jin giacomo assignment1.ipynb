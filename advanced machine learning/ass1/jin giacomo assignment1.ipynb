{
  "cells": [
    {
      "cell_type": "markdown",
      "metadata": {
        "id": "tq5jQApIUnNL"
      },
      "source": [
        "# COMP47590: Advanced Machine Learning\n",
        "# Assignment 1: Benchmarking Esemble Methods"
      ]
    },
    {
      "cell_type": "markdown",
      "metadata": {
        "id": "4zYvByK3UnNN"
      },
      "source": [
        "Name(s):  jin giacomo\n",
        "\n",
        "Student Number(s): 24216191"
      ]
    },
    {
      "cell_type": "markdown",
      "metadata": {
        "id": "P1ImHL16UnNO"
      },
      "source": [
        "## Import Packages Etc"
      ]
    },
    {
      "cell_type": "code",
      "source": [
        "!pip install aeon"
      ],
      "metadata": {
        "colab": {
          "base_uri": "https://localhost:8080/"
        },
        "id": "TMKtpP20hecj",
        "outputId": "3edfa73c-7371-4486-837b-c21263e8e25a"
      },
      "execution_count": 4,
      "outputs": [
        {
          "output_type": "stream",
          "name": "stdout",
          "text": [
            "Requirement already satisfied: aeon in /usr/local/lib/python3.11/dist-packages (1.0.0)\n",
            "Requirement already satisfied: deprecated>=1.2.13 in /usr/local/lib/python3.11/dist-packages (from aeon) (1.2.18)\n",
            "Requirement already satisfied: numba<0.61.0,>=0.55 in /usr/local/lib/python3.11/dist-packages (from aeon) (0.60.0)\n",
            "Requirement already satisfied: numpy<2.1.0,>=1.21.0 in /usr/local/lib/python3.11/dist-packages (from aeon) (1.26.4)\n",
            "Requirement already satisfied: packaging>=20.0 in /usr/local/lib/python3.11/dist-packages (from aeon) (24.2)\n",
            "Requirement already satisfied: pandas<2.3.0,>=2.0.0 in /usr/local/lib/python3.11/dist-packages (from aeon) (2.2.2)\n",
            "Requirement already satisfied: scikit-learn<1.6.0,>=1.0.0 in /usr/local/lib/python3.11/dist-packages (from aeon) (1.5.2)\n",
            "Requirement already satisfied: scipy<1.15.0,>=1.9.0 in /usr/local/lib/python3.11/dist-packages (from aeon) (1.14.1)\n",
            "Requirement already satisfied: typing-extensions>=4.6.0 in /usr/local/lib/python3.11/dist-packages (from aeon) (4.12.2)\n",
            "Requirement already satisfied: wrapt<2,>=1.10 in /usr/local/lib/python3.11/dist-packages (from deprecated>=1.2.13->aeon) (1.17.2)\n",
            "Requirement already satisfied: llvmlite<0.44,>=0.43.0dev0 in /usr/local/lib/python3.11/dist-packages (from numba<0.61.0,>=0.55->aeon) (0.43.0)\n",
            "Requirement already satisfied: python-dateutil>=2.8.2 in /usr/local/lib/python3.11/dist-packages (from pandas<2.3.0,>=2.0.0->aeon) (2.8.2)\n",
            "Requirement already satisfied: pytz>=2020.1 in /usr/local/lib/python3.11/dist-packages (from pandas<2.3.0,>=2.0.0->aeon) (2025.1)\n",
            "Requirement already satisfied: tzdata>=2022.7 in /usr/local/lib/python3.11/dist-packages (from pandas<2.3.0,>=2.0.0->aeon) (2025.1)\n",
            "Requirement already satisfied: joblib>=1.2.0 in /usr/local/lib/python3.11/dist-packages (from scikit-learn<1.6.0,>=1.0.0->aeon) (1.4.2)\n",
            "Requirement already satisfied: threadpoolctl>=3.1.0 in /usr/local/lib/python3.11/dist-packages (from scikit-learn<1.6.0,>=1.0.0->aeon) (3.5.0)\n",
            "Requirement already satisfied: six>=1.5 in /usr/local/lib/python3.11/dist-packages (from python-dateutil>=2.8.2->pandas<2.3.0,>=2.0.0->aeon) (1.17.0)\n"
          ]
        }
      ]
    },
    {
      "cell_type": "code",
      "execution_count": 23,
      "metadata": {
        "id": "eN6SAUFDUnNO"
      },
      "outputs": [],
      "source": [
        "import io\n",
        "import time\n",
        "import pickle\n",
        "\n",
        "import pandas as pd\n",
        "import numpy as np\n",
        "import matplotlib.pyplot as plt\n",
        "\n",
        "from matplotlib import pyplot\n",
        "%matplotlib inline\n",
        "from random import randint\n",
        "import math\n",
        "import sklearn\n",
        "from sklearn.base import BaseEstimator, ClassifierMixin\n",
        "\n",
        "from sklearn.utils.validation import check_X_y\n",
        "from sklearn.model_selection import ParameterSampler\n",
        "from sklearn.neighbors import KNeighborsClassifier\n",
        "from scipy.stats import mode\n",
        "\n",
        "import sklearn.model_selection\n",
        "from sklearn.datasets import load_iris\n",
        "from sklearn import metrics\n",
        "from sklearn.naive_bayes import GaussianNB\n",
        "from sklearn.model_selection import train_test_split, cross_validate, GridSearchCV\n",
        "from sklearn.metrics import accuracy_score\n",
        "\n",
        "import seaborn as sns # nicer plotting functionlity\n",
        "\n",
        "\n",
        "import aeon # time series classification package with nice benchmarking functions\n",
        "import aeon.benchmarking\n",
        "import aeon.benchmarking.stats\n",
        "import aeon.visualisation\n",
        "import matplotlib # core plotting functioanlity\n",
        "import matplotlib.pyplot as plt\n",
        "%matplotlib inline\n",
        "\n",
        "from sklearn.metrics import accuracy_score\n",
        "from sklearn.model_selection import cross_val_score # Import the cross_val_score function\n",
        "\n",
        "\n",
        "from sklearn.metrics import accuracy_score, classification_report\n",
        "\n"
      ]
    },
    {
      "cell_type": "markdown",
      "metadata": {
        "id": "wIL0nFPgUnNP"
      },
      "source": [
        "## Task 1: Define HyperParamClassifier"
      ]
    },
    {
      "cell_type": "markdown",
      "metadata": {
        "id": "jjdlJdDTUnNP"
      },
      "source": [
        "HyperParamClassifier class."
      ]
    },
    {
      "cell_type": "code",
      "execution_count": 10,
      "metadata": {
        "id": "foSfbZSfUnNP"
      },
      "outputs": [],
      "source": [
        "# Create a new classifier which is based on the sckit-learn BaseEstimator and ClassifierMixin classes\n",
        "class HyperParamClassifier(BaseEstimator, ClassifierMixin):\n",
        "\n",
        "    \"\"\"\n",
        "\n",
        "    Parameters\n",
        "    ----------\n",
        "    base_estimator KNeighborsClassifier()\n",
        "\n",
        "    param_grid :\n",
        "        Dictionary with parameters names (string) as keys and lists of parameter settings to try as values,\n",
        "\n",
        "    n_estimators : int, default=5\n",
        "        Number of models in the ensemble.\n",
        "\n",
        "    Attributes\n",
        "    ----------\n",
        "    models : list\n",
        "        Trained KNN models with different hyperparameters.\n",
        "\n",
        "    Notes\n",
        "    -----\n",
        "    - Uses voting to combine predictions.\n",
        "\n",
        "    Example\n",
        "    -------\n",
        "    >>> from sklearn.neighbors import KNeighborsClassifier\n",
        "    >>> param_grid = {\"n_neighbors\": [3, 5], \"weights\": [\"distance\"], \"metric\": [\"euclidean\", \"manhattan\"]}\n",
        "    >>> model = HyperParamClassifier( param_grid, n_estimators=4)\n",
        "    >>> model.fit(X_train, y_train)\n",
        "    >>> y_pred = model.predict(X_test)\n",
        "    \"\"\"\n",
        "\n",
        "    # Constructor for the classifier object\n",
        "    def __init__(self, param_grid, n_estimators ):\n",
        "        self.models= []\n",
        "        self.param_grid=param_grid\n",
        "        self.n_estimators=n_estimators\n",
        "\n",
        "    # The fit function to train a classifier\n",
        "    def fit(self, X, y):\n",
        "        \"\"\"Build a HyperParamClassifier classifier from the training set (X, y).\n",
        "        Parameters\n",
        "        X : array-like, shape = [n_samples, n_features]\n",
        "            The training input samples.\n",
        "        y : array-like, shape = [n_samples]\n",
        "            The target values (class labels) as integers or strings.\n",
        "        Returns\n",
        "        self : object\n",
        "        \"\"\"\n",
        "        if not isinstance(X, (np.ndarray, list)):\n",
        "            raise ValueError(\"X should be a NumPy array or a list of numerical values.\")\n",
        "        if not isinstance(y, (np.ndarray, list)):\n",
        "            raise ValueError(\"y should be a NumPy array or a list.\")\n",
        "        X = np.array(X) if isinstance(X, list) else X\n",
        "        y = np.array(y) if isinstance(y, list) else y\n",
        "        if X.ndim != 2:\n",
        "            raise ValueError(f\"X must be a 2D array (samples, features). Found {X.ndim}D instead.\")\n",
        "        if y.ndim != 1:\n",
        "            raise ValueError(f\"y must be a 1D array (labels). Found {y.ndim}D instead.\")\n",
        "\n",
        "        if len(X) != len(y):\n",
        "            raise ValueError(f\"Mismatch: X has {len(X)} samples, but y has {len(y)}.\")\n",
        "\n",
        "        self.classes_ = np.unique(y)\n",
        "        self.models.clear()\n",
        "\n",
        "       # random parameters\n",
        "        sampled_params = list(ParameterSampler(self.param_grid, n_iter=self.n_estimators, random_state=42))\n",
        "\n",
        "        for param_set in sampled_params:\n",
        "            model = KNeighborsClassifier(**param_set)\n",
        "            model.fit(X, y)\n",
        "            self.models.append(model)\n",
        "        return self\n",
        "\n",
        "    # The predict function to make a set of predictions for a set of query instances\n",
        "    def predict(self, X):\n",
        "        if not self.models:\n",
        "            raise ValueError(\"The model has not been trained. Call fit() first.\")\n",
        "        if not isinstance(X, (np.ndarray, list)):\n",
        "            raise ValueError(\"X should be a NumPy array or a list of numerical values.\")\n",
        "        X = np.array(X) if isinstance(X, list) else X  # Convert list to NumPy array\n",
        "        if X.ndim != 2:\n",
        "            raise ValueError(f\"X must be a 2D array (samples, features). Found {X.ndim}D instead.\")\n",
        "        predictions = np.array([model.predict(X) for model in self.models])  # Shape: (n_estimators, n_samples)\n",
        "        final_predictions = mode(predictions, axis=0)[0].flatten()  # Most common class per sample\n",
        "        return final_predictions\n",
        "\n",
        "    # The predict function to make a set of predictions for a set of query instances\n",
        "    def predict_proba(self, X):\n",
        "        if not self.models:\n",
        "            raise ValueError(\"The model has not been trained. Call fit() first.\")\n",
        "        if not isinstance(X, (np.ndarray, list)):\n",
        "            raise ValueError(\"X should be a NumPy array or a list of numerical values.\")\n",
        "        X = np.array(X) if isinstance(X, list) else X  # Convert list to NumPy array\n",
        "        if X.ndim != 2:\n",
        "            raise ValueError(f\"X must be a 2D array (samples, features). Found {X.ndim}D instead.\")\n",
        "        probas = np.array([model.predict_proba(X) for model in self.models])\n",
        "        final_probas = np.mean(probas, axis=0)  # Shape: (n_samples, n_classes)\n",
        "        return final_probas"
      ]
    },
    {
      "cell_type": "markdown",
      "metadata": {
        "id": "uye7m2InUnNQ"
      },
      "source": [
        "## Test the HyperParamClassifier"
      ]
    },
    {
      "cell_type": "markdown",
      "metadata": {
        "id": "76lAJJF5UnNQ"
      },
      "source": [
        "Perform a simple test using the HyperParamClassifier on the Iris dataset"
      ]
    },
    {
      "cell_type": "code",
      "execution_count": 11,
      "metadata": {
        "colab": {
          "base_uri": "https://localhost:8080/",
          "height": 406
        },
        "id": "NRI8pog4UnNQ",
        "outputId": "3b18e0fb-6b20-4a24-8827-05ed71d1f01f"
      },
      "outputs": [
        {
          "output_type": "stream",
          "name": "stdout",
          "text": [
            "              precision    recall  f1-score   support\n",
            "\n",
            "           0       1.00      1.00      1.00        50\n",
            "           1       1.00      1.00      1.00        50\n",
            "           2       1.00      1.00      1.00        50\n",
            "\n",
            "    accuracy                           1.00       150\n",
            "   macro avg       1.00      1.00      1.00       150\n",
            "weighted avg       1.00      1.00      1.00       150\n",
            "\n",
            "Confusion Matrix\n"
          ]
        },
        {
          "output_type": "display_data",
          "data": {
            "text/plain": [
              "Predicted   0   1   2  All\n",
              "True                      \n",
              "0          50   0   0   50\n",
              "1           0  50   0   50\n",
              "2           0   0  50   50\n",
              "All        50  50  50  150"
            ],
            "text/html": [
              "\n",
              "  <div id=\"df-bc62268d-8d93-4bba-b808-7d45afae5391\" class=\"colab-df-container\">\n",
              "    <div>\n",
              "<style scoped>\n",
              "    .dataframe tbody tr th:only-of-type {\n",
              "        vertical-align: middle;\n",
              "    }\n",
              "\n",
              "    .dataframe tbody tr th {\n",
              "        vertical-align: top;\n",
              "    }\n",
              "\n",
              "    .dataframe thead th {\n",
              "        text-align: right;\n",
              "    }\n",
              "</style>\n",
              "<table border=\"1\" class=\"dataframe\">\n",
              "  <thead>\n",
              "    <tr style=\"text-align: right;\">\n",
              "      <th>Predicted</th>\n",
              "      <th>0</th>\n",
              "      <th>1</th>\n",
              "      <th>2</th>\n",
              "      <th>All</th>\n",
              "    </tr>\n",
              "    <tr>\n",
              "      <th>True</th>\n",
              "      <th></th>\n",
              "      <th></th>\n",
              "      <th></th>\n",
              "      <th></th>\n",
              "    </tr>\n",
              "  </thead>\n",
              "  <tbody>\n",
              "    <tr>\n",
              "      <th>0</th>\n",
              "      <td>50</td>\n",
              "      <td>0</td>\n",
              "      <td>0</td>\n",
              "      <td>50</td>\n",
              "    </tr>\n",
              "    <tr>\n",
              "      <th>1</th>\n",
              "      <td>0</td>\n",
              "      <td>50</td>\n",
              "      <td>0</td>\n",
              "      <td>50</td>\n",
              "    </tr>\n",
              "    <tr>\n",
              "      <th>2</th>\n",
              "      <td>0</td>\n",
              "      <td>0</td>\n",
              "      <td>50</td>\n",
              "      <td>50</td>\n",
              "    </tr>\n",
              "    <tr>\n",
              "      <th>All</th>\n",
              "      <td>50</td>\n",
              "      <td>50</td>\n",
              "      <td>50</td>\n",
              "      <td>150</td>\n",
              "    </tr>\n",
              "  </tbody>\n",
              "</table>\n",
              "</div>\n",
              "    <div class=\"colab-df-buttons\">\n",
              "\n",
              "  <div class=\"colab-df-container\">\n",
              "    <button class=\"colab-df-convert\" onclick=\"convertToInteractive('df-bc62268d-8d93-4bba-b808-7d45afae5391')\"\n",
              "            title=\"Convert this dataframe to an interactive table.\"\n",
              "            style=\"display:none;\">\n",
              "\n",
              "  <svg xmlns=\"http://www.w3.org/2000/svg\" height=\"24px\" viewBox=\"0 -960 960 960\">\n",
              "    <path d=\"M120-120v-720h720v720H120Zm60-500h600v-160H180v160Zm220 220h160v-160H400v160Zm0 220h160v-160H400v160ZM180-400h160v-160H180v160Zm440 0h160v-160H620v160ZM180-180h160v-160H180v160Zm440 0h160v-160H620v160Z\"/>\n",
              "  </svg>\n",
              "    </button>\n",
              "\n",
              "  <style>\n",
              "    .colab-df-container {\n",
              "      display:flex;\n",
              "      gap: 12px;\n",
              "    }\n",
              "\n",
              "    .colab-df-convert {\n",
              "      background-color: #E8F0FE;\n",
              "      border: none;\n",
              "      border-radius: 50%;\n",
              "      cursor: pointer;\n",
              "      display: none;\n",
              "      fill: #1967D2;\n",
              "      height: 32px;\n",
              "      padding: 0 0 0 0;\n",
              "      width: 32px;\n",
              "    }\n",
              "\n",
              "    .colab-df-convert:hover {\n",
              "      background-color: #E2EBFA;\n",
              "      box-shadow: 0px 1px 2px rgba(60, 64, 67, 0.3), 0px 1px 3px 1px rgba(60, 64, 67, 0.15);\n",
              "      fill: #174EA6;\n",
              "    }\n",
              "\n",
              "    .colab-df-buttons div {\n",
              "      margin-bottom: 4px;\n",
              "    }\n",
              "\n",
              "    [theme=dark] .colab-df-convert {\n",
              "      background-color: #3B4455;\n",
              "      fill: #D2E3FC;\n",
              "    }\n",
              "\n",
              "    [theme=dark] .colab-df-convert:hover {\n",
              "      background-color: #434B5C;\n",
              "      box-shadow: 0px 1px 3px 1px rgba(0, 0, 0, 0.15);\n",
              "      filter: drop-shadow(0px 1px 2px rgba(0, 0, 0, 0.3));\n",
              "      fill: #FFFFFF;\n",
              "    }\n",
              "  </style>\n",
              "\n",
              "    <script>\n",
              "      const buttonEl =\n",
              "        document.querySelector('#df-bc62268d-8d93-4bba-b808-7d45afae5391 button.colab-df-convert');\n",
              "      buttonEl.style.display =\n",
              "        google.colab.kernel.accessAllowed ? 'block' : 'none';\n",
              "\n",
              "      async function convertToInteractive(key) {\n",
              "        const element = document.querySelector('#df-bc62268d-8d93-4bba-b808-7d45afae5391');\n",
              "        const dataTable =\n",
              "          await google.colab.kernel.invokeFunction('convertToInteractive',\n",
              "                                                    [key], {});\n",
              "        if (!dataTable) return;\n",
              "\n",
              "        const docLinkHtml = 'Like what you see? Visit the ' +\n",
              "          '<a target=\"_blank\" href=https://colab.research.google.com/notebooks/data_table.ipynb>data table notebook</a>'\n",
              "          + ' to learn more about interactive tables.';\n",
              "        element.innerHTML = '';\n",
              "        dataTable['output_type'] = 'display_data';\n",
              "        await google.colab.output.renderOutput(dataTable, element);\n",
              "        const docLink = document.createElement('div');\n",
              "        docLink.innerHTML = docLinkHtml;\n",
              "        element.appendChild(docLink);\n",
              "      }\n",
              "    </script>\n",
              "  </div>\n",
              "\n",
              "\n",
              "<div id=\"df-a5c96da5-de20-43ae-aa55-412542b4858d\">\n",
              "  <button class=\"colab-df-quickchart\" onclick=\"quickchart('df-a5c96da5-de20-43ae-aa55-412542b4858d')\"\n",
              "            title=\"Suggest charts\"\n",
              "            style=\"display:none;\">\n",
              "\n",
              "<svg xmlns=\"http://www.w3.org/2000/svg\" height=\"24px\"viewBox=\"0 0 24 24\"\n",
              "     width=\"24px\">\n",
              "    <g>\n",
              "        <path d=\"M19 3H5c-1.1 0-2 .9-2 2v14c0 1.1.9 2 2 2h14c1.1 0 2-.9 2-2V5c0-1.1-.9-2-2-2zM9 17H7v-7h2v7zm4 0h-2V7h2v10zm4 0h-2v-4h2v4z\"/>\n",
              "    </g>\n",
              "</svg>\n",
              "  </button>\n",
              "\n",
              "<style>\n",
              "  .colab-df-quickchart {\n",
              "      --bg-color: #E8F0FE;\n",
              "      --fill-color: #1967D2;\n",
              "      --hover-bg-color: #E2EBFA;\n",
              "      --hover-fill-color: #174EA6;\n",
              "      --disabled-fill-color: #AAA;\n",
              "      --disabled-bg-color: #DDD;\n",
              "  }\n",
              "\n",
              "  [theme=dark] .colab-df-quickchart {\n",
              "      --bg-color: #3B4455;\n",
              "      --fill-color: #D2E3FC;\n",
              "      --hover-bg-color: #434B5C;\n",
              "      --hover-fill-color: #FFFFFF;\n",
              "      --disabled-bg-color: #3B4455;\n",
              "      --disabled-fill-color: #666;\n",
              "  }\n",
              "\n",
              "  .colab-df-quickchart {\n",
              "    background-color: var(--bg-color);\n",
              "    border: none;\n",
              "    border-radius: 50%;\n",
              "    cursor: pointer;\n",
              "    display: none;\n",
              "    fill: var(--fill-color);\n",
              "    height: 32px;\n",
              "    padding: 0;\n",
              "    width: 32px;\n",
              "  }\n",
              "\n",
              "  .colab-df-quickchart:hover {\n",
              "    background-color: var(--hover-bg-color);\n",
              "    box-shadow: 0 1px 2px rgba(60, 64, 67, 0.3), 0 1px 3px 1px rgba(60, 64, 67, 0.15);\n",
              "    fill: var(--button-hover-fill-color);\n",
              "  }\n",
              "\n",
              "  .colab-df-quickchart-complete:disabled,\n",
              "  .colab-df-quickchart-complete:disabled:hover {\n",
              "    background-color: var(--disabled-bg-color);\n",
              "    fill: var(--disabled-fill-color);\n",
              "    box-shadow: none;\n",
              "  }\n",
              "\n",
              "  .colab-df-spinner {\n",
              "    border: 2px solid var(--fill-color);\n",
              "    border-color: transparent;\n",
              "    border-bottom-color: var(--fill-color);\n",
              "    animation:\n",
              "      spin 1s steps(1) infinite;\n",
              "  }\n",
              "\n",
              "  @keyframes spin {\n",
              "    0% {\n",
              "      border-color: transparent;\n",
              "      border-bottom-color: var(--fill-color);\n",
              "      border-left-color: var(--fill-color);\n",
              "    }\n",
              "    20% {\n",
              "      border-color: transparent;\n",
              "      border-left-color: var(--fill-color);\n",
              "      border-top-color: var(--fill-color);\n",
              "    }\n",
              "    30% {\n",
              "      border-color: transparent;\n",
              "      border-left-color: var(--fill-color);\n",
              "      border-top-color: var(--fill-color);\n",
              "      border-right-color: var(--fill-color);\n",
              "    }\n",
              "    40% {\n",
              "      border-color: transparent;\n",
              "      border-right-color: var(--fill-color);\n",
              "      border-top-color: var(--fill-color);\n",
              "    }\n",
              "    60% {\n",
              "      border-color: transparent;\n",
              "      border-right-color: var(--fill-color);\n",
              "    }\n",
              "    80% {\n",
              "      border-color: transparent;\n",
              "      border-right-color: var(--fill-color);\n",
              "      border-bottom-color: var(--fill-color);\n",
              "    }\n",
              "    90% {\n",
              "      border-color: transparent;\n",
              "      border-bottom-color: var(--fill-color);\n",
              "    }\n",
              "  }\n",
              "</style>\n",
              "\n",
              "  <script>\n",
              "    async function quickchart(key) {\n",
              "      const quickchartButtonEl =\n",
              "        document.querySelector('#' + key + ' button');\n",
              "      quickchartButtonEl.disabled = true;  // To prevent multiple clicks.\n",
              "      quickchartButtonEl.classList.add('colab-df-spinner');\n",
              "      try {\n",
              "        const charts = await google.colab.kernel.invokeFunction(\n",
              "            'suggestCharts', [key], {});\n",
              "      } catch (error) {\n",
              "        console.error('Error during call to suggestCharts:', error);\n",
              "      }\n",
              "      quickchartButtonEl.classList.remove('colab-df-spinner');\n",
              "      quickchartButtonEl.classList.add('colab-df-quickchart-complete');\n",
              "    }\n",
              "    (() => {\n",
              "      let quickchartButtonEl =\n",
              "        document.querySelector('#df-a5c96da5-de20-43ae-aa55-412542b4858d button');\n",
              "      quickchartButtonEl.style.display =\n",
              "        google.colab.kernel.accessAllowed ? 'block' : 'none';\n",
              "    })();\n",
              "  </script>\n",
              "</div>\n",
              "\n",
              "    </div>\n",
              "  </div>\n"
            ],
            "application/vnd.google.colaboratory.intrinsic+json": {
              "type": "dataframe",
              "summary": "{\n  \"name\": \"display(pd\",\n  \"rows\": 4,\n  \"fields\": [\n    {\n      \"column\": \"True\",\n      \"properties\": {\n        \"dtype\": \"string\",\n        \"num_unique_values\": 4,\n        \"samples\": [\n          1,\n          \"All\",\n          0\n        ],\n        \"semantic_type\": \"\",\n        \"description\": \"\"\n      }\n    },\n    {\n      \"column\": 0,\n      \"properties\": {\n        \"dtype\": \"number\",\n        \"std\": 28,\n        \"min\": 0,\n        \"max\": 50,\n        \"num_unique_values\": 2,\n        \"samples\": [\n          0,\n          50\n        ],\n        \"semantic_type\": \"\",\n        \"description\": \"\"\n      }\n    },\n    {\n      \"column\": 1,\n      \"properties\": {\n        \"dtype\": \"number\",\n        \"std\": 28,\n        \"min\": 0,\n        \"max\": 50,\n        \"num_unique_values\": 2,\n        \"samples\": [\n          50,\n          0\n        ],\n        \"semantic_type\": \"\",\n        \"description\": \"\"\n      }\n    },\n    {\n      \"column\": 2,\n      \"properties\": {\n        \"dtype\": \"number\",\n        \"std\": 28,\n        \"min\": 0,\n        \"max\": 50,\n        \"num_unique_values\": 2,\n        \"samples\": [\n          50,\n          0\n        ],\n        \"semantic_type\": \"\",\n        \"description\": \"\"\n      }\n    },\n    {\n      \"column\": \"All\",\n      \"properties\": {\n        \"dtype\": \"number\",\n        \"std\": 50,\n        \"min\": 50,\n        \"max\": 150,\n        \"num_unique_values\": 2,\n        \"samples\": [\n          150,\n          50\n        ],\n        \"semantic_type\": \"\",\n        \"description\": \"\"\n      }\n    }\n  ]\n}"
            }
          },
          "metadata": {}
        }
      ],
      "source": [
        "from sklearn.datasets import load_iris\n",
        "iris = load_iris()\n",
        "param_grid: dict = {\n",
        "    'n_neighbors': list(range(3, 6, 2)),  # Generates [3, 5]\n",
        "    'weights': ['distance'],  # Only one option, but still a valid parameter\n",
        "    'metric': ['euclidean', 'manhattan']  # Two distance metrics to test\n",
        "}\n",
        "clf = HyperParamClassifier(param_grid,3)\n",
        "clf.fit(iris.data, iris.target)\n",
        "y_pred = clf.predict(iris.data)\n",
        "print(metrics.classification_report(iris.target, y_pred))\n",
        "print(\"Confusion Matrix\")\n",
        "display(pd.crosstab(np.array(iris.target), y_pred, rownames=['True'], colnames=['Predicted'], margins=True))"
      ]
    },
    {
      "cell_type": "markdown",
      "metadata": {
        "id": "cvy0PDzfUnNR"
      },
      "source": [
        "Perform a cross validation experiment"
      ]
    },
    {
      "cell_type": "code",
      "execution_count": 12,
      "metadata": {
        "colab": {
          "base_uri": "https://localhost:8080/",
          "height": 460
        },
        "id": "0GbEIYRaUnNR",
        "outputId": "784a4815-db4a-4874-da9b-3d51e901d0f5"
      },
      "outputs": [
        {
          "output_type": "stream",
          "name": "stdout",
          "text": [
            "              precision    recall  f1-score   support\n",
            "\n",
            "           0       1.00      1.00      1.00        50\n",
            "           1       1.00      1.00      1.00        50\n",
            "           2       1.00      1.00      1.00        50\n",
            "\n",
            "    accuracy                           1.00       150\n",
            "   macro avg       1.00      1.00      1.00       150\n",
            "weighted avg       1.00      1.00      1.00       150\n",
            "\n",
            "Confusion Matrix\n"
          ]
        },
        {
          "output_type": "display_data",
          "data": {
            "text/plain": [
              "Predicted   0   1   2  All\n",
              "True                      \n",
              "0          50   0   0   50\n",
              "1           0  50   0   50\n",
              "2           0   0  50   50\n",
              "All        50  50  50  150"
            ],
            "text/html": [
              "\n",
              "  <div id=\"df-a166bc54-d907-45dc-b06f-3e1a6800961e\" class=\"colab-df-container\">\n",
              "    <div>\n",
              "<style scoped>\n",
              "    .dataframe tbody tr th:only-of-type {\n",
              "        vertical-align: middle;\n",
              "    }\n",
              "\n",
              "    .dataframe tbody tr th {\n",
              "        vertical-align: top;\n",
              "    }\n",
              "\n",
              "    .dataframe thead th {\n",
              "        text-align: right;\n",
              "    }\n",
              "</style>\n",
              "<table border=\"1\" class=\"dataframe\">\n",
              "  <thead>\n",
              "    <tr style=\"text-align: right;\">\n",
              "      <th>Predicted</th>\n",
              "      <th>0</th>\n",
              "      <th>1</th>\n",
              "      <th>2</th>\n",
              "      <th>All</th>\n",
              "    </tr>\n",
              "    <tr>\n",
              "      <th>True</th>\n",
              "      <th></th>\n",
              "      <th></th>\n",
              "      <th></th>\n",
              "      <th></th>\n",
              "    </tr>\n",
              "  </thead>\n",
              "  <tbody>\n",
              "    <tr>\n",
              "      <th>0</th>\n",
              "      <td>50</td>\n",
              "      <td>0</td>\n",
              "      <td>0</td>\n",
              "      <td>50</td>\n",
              "    </tr>\n",
              "    <tr>\n",
              "      <th>1</th>\n",
              "      <td>0</td>\n",
              "      <td>50</td>\n",
              "      <td>0</td>\n",
              "      <td>50</td>\n",
              "    </tr>\n",
              "    <tr>\n",
              "      <th>2</th>\n",
              "      <td>0</td>\n",
              "      <td>0</td>\n",
              "      <td>50</td>\n",
              "      <td>50</td>\n",
              "    </tr>\n",
              "    <tr>\n",
              "      <th>All</th>\n",
              "      <td>50</td>\n",
              "      <td>50</td>\n",
              "      <td>50</td>\n",
              "      <td>150</td>\n",
              "    </tr>\n",
              "  </tbody>\n",
              "</table>\n",
              "</div>\n",
              "    <div class=\"colab-df-buttons\">\n",
              "\n",
              "  <div class=\"colab-df-container\">\n",
              "    <button class=\"colab-df-convert\" onclick=\"convertToInteractive('df-a166bc54-d907-45dc-b06f-3e1a6800961e')\"\n",
              "            title=\"Convert this dataframe to an interactive table.\"\n",
              "            style=\"display:none;\">\n",
              "\n",
              "  <svg xmlns=\"http://www.w3.org/2000/svg\" height=\"24px\" viewBox=\"0 -960 960 960\">\n",
              "    <path d=\"M120-120v-720h720v720H120Zm60-500h600v-160H180v160Zm220 220h160v-160H400v160Zm0 220h160v-160H400v160ZM180-400h160v-160H180v160Zm440 0h160v-160H620v160ZM180-180h160v-160H180v160Zm440 0h160v-160H620v160Z\"/>\n",
              "  </svg>\n",
              "    </button>\n",
              "\n",
              "  <style>\n",
              "    .colab-df-container {\n",
              "      display:flex;\n",
              "      gap: 12px;\n",
              "    }\n",
              "\n",
              "    .colab-df-convert {\n",
              "      background-color: #E8F0FE;\n",
              "      border: none;\n",
              "      border-radius: 50%;\n",
              "      cursor: pointer;\n",
              "      display: none;\n",
              "      fill: #1967D2;\n",
              "      height: 32px;\n",
              "      padding: 0 0 0 0;\n",
              "      width: 32px;\n",
              "    }\n",
              "\n",
              "    .colab-df-convert:hover {\n",
              "      background-color: #E2EBFA;\n",
              "      box-shadow: 0px 1px 2px rgba(60, 64, 67, 0.3), 0px 1px 3px 1px rgba(60, 64, 67, 0.15);\n",
              "      fill: #174EA6;\n",
              "    }\n",
              "\n",
              "    .colab-df-buttons div {\n",
              "      margin-bottom: 4px;\n",
              "    }\n",
              "\n",
              "    [theme=dark] .colab-df-convert {\n",
              "      background-color: #3B4455;\n",
              "      fill: #D2E3FC;\n",
              "    }\n",
              "\n",
              "    [theme=dark] .colab-df-convert:hover {\n",
              "      background-color: #434B5C;\n",
              "      box-shadow: 0px 1px 3px 1px rgba(0, 0, 0, 0.15);\n",
              "      filter: drop-shadow(0px 1px 2px rgba(0, 0, 0, 0.3));\n",
              "      fill: #FFFFFF;\n",
              "    }\n",
              "  </style>\n",
              "\n",
              "    <script>\n",
              "      const buttonEl =\n",
              "        document.querySelector('#df-a166bc54-d907-45dc-b06f-3e1a6800961e button.colab-df-convert');\n",
              "      buttonEl.style.display =\n",
              "        google.colab.kernel.accessAllowed ? 'block' : 'none';\n",
              "\n",
              "      async function convertToInteractive(key) {\n",
              "        const element = document.querySelector('#df-a166bc54-d907-45dc-b06f-3e1a6800961e');\n",
              "        const dataTable =\n",
              "          await google.colab.kernel.invokeFunction('convertToInteractive',\n",
              "                                                    [key], {});\n",
              "        if (!dataTable) return;\n",
              "\n",
              "        const docLinkHtml = 'Like what you see? Visit the ' +\n",
              "          '<a target=\"_blank\" href=https://colab.research.google.com/notebooks/data_table.ipynb>data table notebook</a>'\n",
              "          + ' to learn more about interactive tables.';\n",
              "        element.innerHTML = '';\n",
              "        dataTable['output_type'] = 'display_data';\n",
              "        await google.colab.output.renderOutput(dataTable, element);\n",
              "        const docLink = document.createElement('div');\n",
              "        docLink.innerHTML = docLinkHtml;\n",
              "        element.appendChild(docLink);\n",
              "      }\n",
              "    </script>\n",
              "  </div>\n",
              "\n",
              "\n",
              "<div id=\"df-0e97c2a8-620d-4aaf-9d39-7dd07c328dd0\">\n",
              "  <button class=\"colab-df-quickchart\" onclick=\"quickchart('df-0e97c2a8-620d-4aaf-9d39-7dd07c328dd0')\"\n",
              "            title=\"Suggest charts\"\n",
              "            style=\"display:none;\">\n",
              "\n",
              "<svg xmlns=\"http://www.w3.org/2000/svg\" height=\"24px\"viewBox=\"0 0 24 24\"\n",
              "     width=\"24px\">\n",
              "    <g>\n",
              "        <path d=\"M19 3H5c-1.1 0-2 .9-2 2v14c0 1.1.9 2 2 2h14c1.1 0 2-.9 2-2V5c0-1.1-.9-2-2-2zM9 17H7v-7h2v7zm4 0h-2V7h2v10zm4 0h-2v-4h2v4z\"/>\n",
              "    </g>\n",
              "</svg>\n",
              "  </button>\n",
              "\n",
              "<style>\n",
              "  .colab-df-quickchart {\n",
              "      --bg-color: #E8F0FE;\n",
              "      --fill-color: #1967D2;\n",
              "      --hover-bg-color: #E2EBFA;\n",
              "      --hover-fill-color: #174EA6;\n",
              "      --disabled-fill-color: #AAA;\n",
              "      --disabled-bg-color: #DDD;\n",
              "  }\n",
              "\n",
              "  [theme=dark] .colab-df-quickchart {\n",
              "      --bg-color: #3B4455;\n",
              "      --fill-color: #D2E3FC;\n",
              "      --hover-bg-color: #434B5C;\n",
              "      --hover-fill-color: #FFFFFF;\n",
              "      --disabled-bg-color: #3B4455;\n",
              "      --disabled-fill-color: #666;\n",
              "  }\n",
              "\n",
              "  .colab-df-quickchart {\n",
              "    background-color: var(--bg-color);\n",
              "    border: none;\n",
              "    border-radius: 50%;\n",
              "    cursor: pointer;\n",
              "    display: none;\n",
              "    fill: var(--fill-color);\n",
              "    height: 32px;\n",
              "    padding: 0;\n",
              "    width: 32px;\n",
              "  }\n",
              "\n",
              "  .colab-df-quickchart:hover {\n",
              "    background-color: var(--hover-bg-color);\n",
              "    box-shadow: 0 1px 2px rgba(60, 64, 67, 0.3), 0 1px 3px 1px rgba(60, 64, 67, 0.15);\n",
              "    fill: var(--button-hover-fill-color);\n",
              "  }\n",
              "\n",
              "  .colab-df-quickchart-complete:disabled,\n",
              "  .colab-df-quickchart-complete:disabled:hover {\n",
              "    background-color: var(--disabled-bg-color);\n",
              "    fill: var(--disabled-fill-color);\n",
              "    box-shadow: none;\n",
              "  }\n",
              "\n",
              "  .colab-df-spinner {\n",
              "    border: 2px solid var(--fill-color);\n",
              "    border-color: transparent;\n",
              "    border-bottom-color: var(--fill-color);\n",
              "    animation:\n",
              "      spin 1s steps(1) infinite;\n",
              "  }\n",
              "\n",
              "  @keyframes spin {\n",
              "    0% {\n",
              "      border-color: transparent;\n",
              "      border-bottom-color: var(--fill-color);\n",
              "      border-left-color: var(--fill-color);\n",
              "    }\n",
              "    20% {\n",
              "      border-color: transparent;\n",
              "      border-left-color: var(--fill-color);\n",
              "      border-top-color: var(--fill-color);\n",
              "    }\n",
              "    30% {\n",
              "      border-color: transparent;\n",
              "      border-left-color: var(--fill-color);\n",
              "      border-top-color: var(--fill-color);\n",
              "      border-right-color: var(--fill-color);\n",
              "    }\n",
              "    40% {\n",
              "      border-color: transparent;\n",
              "      border-right-color: var(--fill-color);\n",
              "      border-top-color: var(--fill-color);\n",
              "    }\n",
              "    60% {\n",
              "      border-color: transparent;\n",
              "      border-right-color: var(--fill-color);\n",
              "    }\n",
              "    80% {\n",
              "      border-color: transparent;\n",
              "      border-right-color: var(--fill-color);\n",
              "      border-bottom-color: var(--fill-color);\n",
              "    }\n",
              "    90% {\n",
              "      border-color: transparent;\n",
              "      border-bottom-color: var(--fill-color);\n",
              "    }\n",
              "  }\n",
              "</style>\n",
              "\n",
              "  <script>\n",
              "    async function quickchart(key) {\n",
              "      const quickchartButtonEl =\n",
              "        document.querySelector('#' + key + ' button');\n",
              "      quickchartButtonEl.disabled = true;  // To prevent multiple clicks.\n",
              "      quickchartButtonEl.classList.add('colab-df-spinner');\n",
              "      try {\n",
              "        const charts = await google.colab.kernel.invokeFunction(\n",
              "            'suggestCharts', [key], {});\n",
              "      } catch (error) {\n",
              "        console.error('Error during call to suggestCharts:', error);\n",
              "      }\n",
              "      quickchartButtonEl.classList.remove('colab-df-spinner');\n",
              "      quickchartButtonEl.classList.add('colab-df-quickchart-complete');\n",
              "    }\n",
              "    (() => {\n",
              "      let quickchartButtonEl =\n",
              "        document.querySelector('#df-0e97c2a8-620d-4aaf-9d39-7dd07c328dd0 button');\n",
              "      quickchartButtonEl.style.display =\n",
              "        google.colab.kernel.accessAllowed ? 'block' : 'none';\n",
              "    })();\n",
              "  </script>\n",
              "</div>\n",
              "\n",
              "    </div>\n",
              "  </div>\n"
            ],
            "application/vnd.google.colaboratory.intrinsic+json": {
              "type": "dataframe",
              "summary": "{\n  \"name\": \"print(\\\"Mean accuracy:\\\", np\",\n  \"rows\": 4,\n  \"fields\": [\n    {\n      \"column\": \"True\",\n      \"properties\": {\n        \"dtype\": \"string\",\n        \"num_unique_values\": 4,\n        \"samples\": [\n          1,\n          \"All\",\n          0\n        ],\n        \"semantic_type\": \"\",\n        \"description\": \"\"\n      }\n    },\n    {\n      \"column\": 0,\n      \"properties\": {\n        \"dtype\": \"number\",\n        \"std\": 28,\n        \"min\": 0,\n        \"max\": 50,\n        \"num_unique_values\": 2,\n        \"samples\": [\n          0,\n          50\n        ],\n        \"semantic_type\": \"\",\n        \"description\": \"\"\n      }\n    },\n    {\n      \"column\": 1,\n      \"properties\": {\n        \"dtype\": \"number\",\n        \"std\": 28,\n        \"min\": 0,\n        \"max\": 50,\n        \"num_unique_values\": 2,\n        \"samples\": [\n          50,\n          0\n        ],\n        \"semantic_type\": \"\",\n        \"description\": \"\"\n      }\n    },\n    {\n      \"column\": 2,\n      \"properties\": {\n        \"dtype\": \"number\",\n        \"std\": 28,\n        \"min\": 0,\n        \"max\": 50,\n        \"num_unique_values\": 2,\n        \"samples\": [\n          50,\n          0\n        ],\n        \"semantic_type\": \"\",\n        \"description\": \"\"\n      }\n    },\n    {\n      \"column\": \"All\",\n      \"properties\": {\n        \"dtype\": \"number\",\n        \"std\": 50,\n        \"min\": 50,\n        \"max\": 150,\n        \"num_unique_values\": 2,\n        \"samples\": [\n          150,\n          50\n        ],\n        \"semantic_type\": \"\",\n        \"description\": \"\"\n      }\n    }\n  ]\n}"
            }
          },
          "metadata": {}
        },
        {
          "output_type": "stream",
          "name": "stdout",
          "text": [
            "Cross-validation scores: [1.         0.93333333 1.         1.         0.86666667 0.93333333\n",
            " 0.93333333 1.         1.         1.        ]\n",
            "Mean accuracy: 0.9666666666666668 +/- 0.04472135954999579\n"
          ]
        }
      ],
      "source": [
        "param_grid: dict = {\n",
        "    'n_neighbors': list(range(3, 6, 2)),  # Generates [3, 5]\n",
        "    'weights': ['distance'],  # Only one option, but still a valid parameter\n",
        "    'metric': ['euclidean', 'manhattan']  # Two distance metrics to test\n",
        "}\n",
        "clf = HyperParamClassifier(param_grid,3)\n",
        "scores = cross_val_score(clf, iris.data, iris.target, cv=10)\n",
        "\n",
        "\n",
        "clf.fit(iris.data, iris.target)\n",
        "y_pred = clf.predict(iris.data)\n",
        "print(metrics.classification_report(iris.target, y_pred))\n",
        "print(\"Confusion Matrix\")\n",
        "display(pd.crosstab(np.array(iris.target), y_pred, rownames=['True'], colnames=['Predicted'], margins=True))\n",
        "\n",
        "print(\"Cross-validation scores:\", scores)\n",
        "print(\"Mean accuracy:\", np.mean(scores), \"+/-\", np.std(scores))"
      ]
    },
    {
      "cell_type": "markdown",
      "metadata": {
        "id": "3ftcq1QdUnNS"
      },
      "source": [
        "## Task 2: Design the Evaluation Experiment"
      ]
    },
    {
      "cell_type": "markdown",
      "metadata": {
        "id": "fVFMdmIjUnNS"
      },
      "source": [
        "Describe datasets and expeimental apporach and setup infrastructure for experimentation."
      ]
    },
    {
      "cell_type": "code",
      "source": [
        "from sklearn.datasets import load_iris,load_breast_cancer, load_digits, load_wine, fetch_openml, fetch_covtype"
      ],
      "metadata": {
        "id": "EeH7JcD-XyAz"
      },
      "execution_count": 13,
      "outputs": []
    },
    {
      "cell_type": "markdown",
      "source": [
        "# Setup Datasets"
      ],
      "metadata": {
        "id": "pW3TzclFYH0t"
      }
    },
    {
      "cell_type": "code",
      "source": [
        "from sklearn.utils import resample\n",
        "from sklearn.datasets import fetch_covtype\n",
        "\n",
        "datasets = dict()  # Ensures compatibility with your loop\n",
        "\n",
        "# Function to structure datasets in the expected format\n",
        "def prepare_dataset(name, dataset, target_feature=\"target\"):\n",
        "    return {\n",
        "        \"target_feature\": target_feature,\n",
        "        \"num_classes\": len(set(dataset.target)),\n",
        "        \"classes\": {i: str(i) for i in set(dataset.target)},\n",
        "        \"data\": dataset.data,\n",
        "        \"target\": dataset.target\n",
        "    }\n",
        "\n",
        "# Load built-in Scikit-Learn datasets and format them correctly\n",
        "datasets[\"Breast Cancer\"] = prepare_dataset(\"Breast Cancer\", load_breast_cancer())\n",
        "datasets[\"Digits\"] = prepare_dataset(\"Digits\", load_digits())\n",
        "datasets[\"Wine\"] = prepare_dataset(\"Wine\", load_wine())\n",
        "datasets[\"Iris\"] = prepare_dataset(\"Iris\", load_iris())\n",
        "\n",
        "\n",
        "# Load and Downsample \"Forest Cover Type\" (from 581,012 → 2,000 samples)\n",
        "print(\"Loading and downsampling 'Forest Cover Type' dataset...\")\n",
        "covtype_dataset = fetch_covtype()\n",
        "X_covtype, y_covtype = covtype_dataset.data, covtype_dataset.target\n",
        "\n",
        "X_covtype_small, y_covtype_small = resample(X_covtype, y_covtype, n_samples=2000, random_state=42)\n",
        "\n",
        "\n",
        "datasets[\"Forest Cover Type\"] = {\n",
        "    \"target_feature\": \"target\",\n",
        "    \"num_classes\": len(set(y_covtype_small)),\n",
        "    \"classes\": {i: str(i) for i in set(y_covtype_small)},\n",
        "    \"data\": X_covtype_small,\n",
        "    \"target\": y_covtype_small\n",
        "}\n",
        "\n",
        "\n",
        "for dataset_name, dataset_details in datasets.items():\n",
        "    print(f\"{dataset_name}: Keys -> {dataset_details.keys()}\")"
      ],
      "metadata": {
        "colab": {
          "base_uri": "https://localhost:8080/"
        },
        "id": "yLrwHrVFjZjI",
        "outputId": "4133ea14-b575-48f7-df02-04f617dbf97d"
      },
      "execution_count": 14,
      "outputs": [
        {
          "output_type": "stream",
          "name": "stdout",
          "text": [
            "Loading and downsampling 'Forest Cover Type' dataset...\n",
            "Breast Cancer: Keys -> dict_keys(['target_feature', 'num_classes', 'classes', 'data', 'target'])\n",
            "Digits: Keys -> dict_keys(['target_feature', 'num_classes', 'classes', 'data', 'target'])\n",
            "Wine: Keys -> dict_keys(['target_feature', 'num_classes', 'classes', 'data', 'target'])\n",
            "Iris: Keys -> dict_keys(['target_feature', 'num_classes', 'classes', 'data', 'target'])\n",
            "Forest Cover Type: Keys -> dict_keys(['target_feature', 'num_classes', 'classes', 'data', 'target'])\n"
          ]
        }
      ]
    },
    {
      "cell_type": "markdown",
      "source": [
        "# Setup models to compare"
      ],
      "metadata": {
        "id": "Pz8j2pX3YSeZ"
      }
    },
    {
      "cell_type": "code",
      "source": [
        "#DecisionTree\n",
        "modelsBench = dict()\n",
        "model_details = dict()\n",
        "model_details['base_model'] = sklearn.tree.DecisionTreeClassifier()\n",
        "model_details['param_grid'] ={'criterion': ['entropy'],\n",
        "                              'max_depth': [12],\n",
        "                              'min_samples_split': [50]}\n",
        "modelsBench['decision_tree'] = model_details"
      ],
      "metadata": {
        "id": "T0Su2z-vX9qE"
      },
      "execution_count": 15,
      "outputs": []
    },
    {
      "cell_type": "code",
      "source": [
        "#Naive Bayes\n",
        "model_details = dict()\n",
        "model_details['base_model'] = sklearn.naive_bayes.GaussianNB()\n",
        "model_details['param_grid'] = {\n",
        "    'var_smoothing': [1e-6]\n",
        "}\n",
        "modelsBench['naive_bayes'] = model_details"
      ],
      "metadata": {
        "id": "BkIO-Y06ZYfx"
      },
      "execution_count": 16,
      "outputs": []
    },
    {
      "cell_type": "code",
      "source": [
        "#SingleKNN\n",
        "model_details = dict()\n",
        "model_details['base_model'] = KNeighborsClassifier()\n",
        "model_details['param_grid'] = {\n",
        "    'n_neighbors':[ 3],\n",
        "    'weights': ['distance'],\n",
        "    'metric': ['euclidean']\n",
        "}\n",
        "modelsBench['knn'] = model_details"
      ],
      "metadata": {
        "id": "X3-N3MFLZLOH"
      },
      "execution_count": 17,
      "outputs": []
    },
    {
      "cell_type": "code",
      "source": [
        "#RandomForest\n",
        "model_details = dict()\n",
        "model_details['base_model'] = sklearn.ensemble.RandomForestClassifier(min_samples_split=200)\n",
        "model_details['param_grid'] = {'n_estimators': [450],\n",
        "                               'max_features': list(range(4, 9, 4))} # either 4 or 8 is the best one\n",
        "modelsBench['random_forest'] = model_details"
      ],
      "metadata": {
        "id": "s78PNINzaMMz"
      },
      "execution_count": 18,
      "outputs": []
    },
    {
      "cell_type": "markdown",
      "source": [
        "i gave each model the best parameters found in the previous assignments( skipped grid search on them to alleviate computational load on my budget laptop)"
      ],
      "metadata": {
        "id": "LphBk7CXaqom"
      }
    },
    {
      "cell_type": "code",
      "source": [
        "#HyperParamEnsemble\n",
        "model_details = dict()\n",
        "param_grid: dict = {\n",
        "    'n_neighbors': list(range(3, 6, 2)),  # Generates [3, 5]\n",
        "    'weights': ['distance'],  # Only one option, but still a valid parameter\n",
        "    'metric': ['euclidean', 'manhattan']  # Two distance metrics to test\n",
        "}\n",
        "model_details['base_model'] = HyperParamClassifier(param_grid,3)\n",
        "model_details['param_grid'] = param_grid\n",
        "modelsBench['hyper'] = model_details\n",
        "\n"
      ],
      "metadata": {
        "id": "_Kc6ng0nbm93"
      },
      "execution_count": 19,
      "outputs": []
    },
    {
      "cell_type": "markdown",
      "metadata": {
        "id": "z11K1rmcUnNS"
      },
      "source": [
        "## Task 3: Execute Evalution Experiment"
      ]
    },
    {
      "cell_type": "code",
      "execution_count": 24,
      "metadata": {
        "colab": {
          "base_uri": "https://localhost:8080/"
        },
        "id": "uJT4qkHCUnNS",
        "outputId": "e2227604-d220-4321-c838-0e7f8916250f"
      },
      "outputs": [
        {
          "output_type": "stream",
          "name": "stdout",
          "text": [
            "Breast Cancer\n",
            "\tdecision_tree\n",
            "\t\tPerforming grid search\n",
            "Fitting 5 folds for each of 1 candidates, totalling 5 fits\n",
            "\t\tBest Parameters: {'criterion': 'entropy', 'max_depth': 12, 'min_samples_split': 50}\n",
            "\t\tPerforming final cross validation\n",
            "\t\t0.9165700483091788 +/- 0.03981628913741204\n",
            "\t\tTraining Best Model on Full Training Set\n",
            "\t\tMaking final predictions on the full dataset\n",
            "\t\tFinal Accuracy on Full Dataset: 0.9123\n",
            "\tnaive_bayes\n",
            "\t\tPerforming grid search\n",
            "Fitting 5 folds for each of 1 candidates, totalling 5 fits\n",
            "\t\tBest Parameters: {'var_smoothing': 1e-06}\n",
            "\t\tPerforming final cross validation\n",
            "\t\t0.9141545893719808 +/- 0.04900467947522281\n",
            "\t\tTraining Best Model on Full Training Set\n",
            "\t\tMaking final predictions on the full dataset\n",
            "\t\tFinal Accuracy on Full Dataset: 0.9561\n",
            "\tknn\n",
            "\t\tPerforming grid search\n",
            "Fitting 5 folds for each of 1 candidates, totalling 5 fits\n",
            "\t\tBest Parameters: {'metric': 'euclidean', 'n_neighbors': 3, 'weights': 'distance'}\n",
            "\t\tPerforming final cross validation\n",
            "\t\t0.9318357487922706 +/- 0.04767675412449899\n",
            "\t\tTraining Best Model on Full Training Set\n",
            "\t\tMaking final predictions on the full dataset\n",
            "\t\tFinal Accuracy on Full Dataset: 0.9386\n",
            "\trandom_forest\n",
            "\t\tPerforming grid search\n",
            "Fitting 5 folds for each of 2 candidates, totalling 10 fits\n",
            "\t\tBest Parameters: {'max_features': 8, 'n_estimators': 450}\n",
            "\t\tPerforming final cross validation\n",
            "\t\t0.9141545893719807 +/- 0.03883712460898421\n",
            "\t\tTraining Best Model on Full Training Set\n",
            "\t\tMaking final predictions on the full dataset\n",
            "\t\tFinal Accuracy on Full Dataset: 0.9561\n",
            "\thyper\n",
            "\t\tSkipping Grid Search for HyperParamClassifier\n",
            "\t\t0.9273429951690823 +/- 0.051326632532010245\n",
            "\t\tFitting with HyperParamClassifier\n",
            "\t\tTesting HyperParamClassifier on test set\n",
            "\t\tFinal Accuracy on Full Dataset: 0.9561\n",
            "Digits\n",
            "\tdecision_tree\n",
            "\t\tPerforming grid search\n",
            "Fitting 5 folds for each of 1 candidates, totalling 5 fits\n",
            "\t\tBest Parameters: {'criterion': 'entropy', 'max_depth': 12, 'min_samples_split': 50}\n",
            "\t\tPerforming final cross validation\n",
            "\t\t0.8156031468531468 +/- 0.022977142382685844\n",
            "\t\tTraining Best Model on Full Training Set\n",
            "\t\tMaking final predictions on the full dataset\n",
            "\t\tFinal Accuracy on Full Dataset: 0.8306\n",
            "\tnaive_bayes\n",
            "\t\tPerforming grid search\n",
            "Fitting 5 folds for each of 1 candidates, totalling 5 fits\n",
            "\t\tBest Parameters: {'var_smoothing': 1e-06}\n",
            "\t\tPerforming final cross validation\n",
            "\t\t0.8761217948717949 +/- 0.03919475111465704\n",
            "\t\tTraining Best Model on Full Training Set\n",
            "\t\tMaking final predictions on the full dataset\n",
            "\t\tFinal Accuracy on Full Dataset: 0.8917\n",
            "\tknn\n",
            "\t\tPerforming grid search\n",
            "Fitting 5 folds for each of 1 candidates, totalling 5 fits\n",
            "\t\tBest Parameters: {'metric': 'euclidean', 'n_neighbors': 3, 'weights': 'distance'}\n",
            "\t\tPerforming final cross validation\n",
            "\t\t0.9874757187257188 +/- 0.009212929833587494\n",
            "\t\tTraining Best Model on Full Training Set\n",
            "\t\tMaking final predictions on the full dataset\n",
            "\t\tFinal Accuracy on Full Dataset: 0.9833\n",
            "\trandom_forest\n",
            "\t\tPerforming grid search\n",
            "Fitting 5 folds for each of 2 candidates, totalling 10 fits\n",
            "\t\tBest Parameters: {'max_features': 4, 'n_estimators': 450}\n",
            "\t\tPerforming final cross validation\n",
            "\t\t0.8872620435120435 +/- 0.02427351517442602\n",
            "\t\tTraining Best Model on Full Training Set\n",
            "\t\tMaking final predictions on the full dataset\n",
            "\t\tFinal Accuracy on Full Dataset: 0.9056\n",
            "\thyper\n",
            "\t\tSkipping Grid Search for HyperParamClassifier\n",
            "\t\t0.9881701631701632 +/- 0.009854110558726824\n",
            "\t\tFitting with HyperParamClassifier\n",
            "\t\tTesting HyperParamClassifier on test set\n",
            "\t\tFinal Accuracy on Full Dataset: 0.9833\n",
            "Wine\n",
            "\tdecision_tree\n",
            "\t\tPerforming grid search\n",
            "Fitting 5 folds for each of 1 candidates, totalling 5 fits\n",
            "\t\tBest Parameters: {'criterion': 'entropy', 'max_depth': 12, 'min_samples_split': 50}\n",
            "\t\tPerforming final cross validation\n",
            "\t\t0.8580952380952382 +/- 0.07913363077272759\n",
            "\t\tTraining Best Model on Full Training Set\n",
            "\t\tMaking final predictions on the full dataset\n",
            "\t\tFinal Accuracy on Full Dataset: 0.8889\n",
            "\tnaive_bayes\n",
            "\t\tPerforming grid search\n",
            "Fitting 5 folds for each of 1 candidates, totalling 5 fits\n",
            "\t\tBest Parameters: {'var_smoothing': 1e-06}\n",
            "\t\tPerforming final cross validation\n",
            "\t\t0.9571428571428571 +/- 0.04738035414793428\n",
            "\t\tTraining Best Model on Full Training Set\n",
            "\t\tMaking final predictions on the full dataset\n",
            "\t\tFinal Accuracy on Full Dataset: 1.0000\n",
            "\tknn\n",
            "\t\tPerforming grid search\n",
            "Fitting 5 folds for each of 1 candidates, totalling 5 fits\n",
            "\t\tBest Parameters: {'metric': 'euclidean', 'n_neighbors': 3, 'weights': 'distance'}\n",
            "\t\tPerforming final cross validation\n",
            "\t\t0.6828571428571428 +/- 0.08011329845643081\n",
            "\t\tTraining Best Model on Full Training Set\n",
            "\t\tMaking final predictions on the full dataset\n",
            "\t\tFinal Accuracy on Full Dataset: 0.8056\n",
            "\trandom_forest\n",
            "\t\tPerforming grid search\n",
            "Fitting 5 folds for each of 2 candidates, totalling 10 fits\n",
            "\t\tBest Parameters: {'max_features': 4, 'n_estimators': 450}\n",
            "\t\tPerforming final cross validation\n",
            "\t\t0.4014285714285714 +/- 0.030937725468153866\n",
            "\t\tTraining Best Model on Full Training Set\n",
            "\t\tMaking final predictions on the full dataset\n",
            "\t\tFinal Accuracy on Full Dataset: 0.3889\n",
            "\thyper\n",
            "\t\tSkipping Grid Search for HyperParamClassifier\n",
            "\t\t0.718095238095238 +/- 0.08485815829652713\n",
            "\t\tFitting with HyperParamClassifier\n",
            "\t\tTesting HyperParamClassifier on test set\n",
            "\t\tFinal Accuracy on Full Dataset: 0.8333\n",
            "Iris\n",
            "\tdecision_tree\n",
            "\t\tPerforming grid search\n",
            "Fitting 5 folds for each of 1 candidates, totalling 5 fits\n",
            "\t\tBest Parameters: {'criterion': 'entropy', 'max_depth': 12, 'min_samples_split': 50}\n",
            "\t\tPerforming final cross validation\n",
            "\t\t0.8999999999999998 +/- 0.097182531580755\n",
            "\t\tTraining Best Model on Full Training Set\n",
            "\t\tMaking final predictions on the full dataset\n",
            "\t\tFinal Accuracy on Full Dataset: 0.9667\n",
            "\tnaive_bayes\n",
            "\t\tPerforming grid search\n",
            "Fitting 5 folds for each of 1 candidates, totalling 5 fits\n",
            "\t\tBest Parameters: {'var_smoothing': 1e-06}\n",
            "\t\tPerforming final cross validation\n",
            "\t\t0.9416666666666667 +/- 0.07500000000000001\n",
            "\t\tTraining Best Model on Full Training Set\n",
            "\t\tMaking final predictions on the full dataset\n",
            "\t\tFinal Accuracy on Full Dataset: 1.0000\n",
            "\tknn\n",
            "\t\tPerforming grid search\n",
            "Fitting 5 folds for each of 1 candidates, totalling 5 fits\n",
            "\t\tBest Parameters: {'metric': 'euclidean', 'n_neighbors': 3, 'weights': 'distance'}\n",
            "\t\tPerforming final cross validation\n",
            "\t\t0.95 +/- 0.06666666666666667\n",
            "\t\tTraining Best Model on Full Training Set\n",
            "\t\tMaking final predictions on the full dataset\n",
            "\t\tFinal Accuracy on Full Dataset: 1.0000\n",
            "\trandom_forest\n",
            "\t\tPerforming grid search\n",
            "Fitting 5 folds for each of 2 candidates, totalling 10 fits\n",
            "\t\tBest Parameters: {'max_features': 8, 'n_estimators': 450}\n",
            "\t\tPerforming final cross validation\n",
            "\t\t0.325 +/- 0.024999999999999994\n",
            "\t\tTraining Best Model on Full Training Set\n",
            "\t\tMaking final predictions on the full dataset\n",
            "\t\tFinal Accuracy on Full Dataset: 0.3000\n",
            "\thyper\n",
            "\t\tSkipping Grid Search for HyperParamClassifier\n",
            "\t\t0.9416666666666667 +/- 0.06508541396588878\n",
            "\t\tFitting with HyperParamClassifier\n",
            "\t\tTesting HyperParamClassifier on test set\n",
            "\t\tFinal Accuracy on Full Dataset: 1.0000\n",
            "Forest Cover Type\n",
            "\tdecision_tree\n",
            "\t\tPerforming grid search\n",
            "Fitting 5 folds for each of 1 candidates, totalling 5 fits\n"
          ]
        },
        {
          "output_type": "stream",
          "name": "stderr",
          "text": [
            "/usr/local/lib/python3.11/dist-packages/sklearn/model_selection/_split.py:776: UserWarning: The least populated class in y has only 4 members, which is less than n_splits=5.\n",
            "  warnings.warn(\n",
            "/usr/local/lib/python3.11/dist-packages/sklearn/model_selection/_split.py:776: UserWarning: The least populated class in y has only 4 members, which is less than n_splits=10.\n",
            "  warnings.warn(\n"
          ]
        },
        {
          "output_type": "stream",
          "name": "stdout",
          "text": [
            "\t\tBest Parameters: {'criterion': 'entropy', 'max_depth': 12, 'min_samples_split': 50}\n",
            "\t\tPerforming final cross validation\n",
            "\t\t0.665625 +/- 0.03165364315525149\n",
            "\t\tTraining Best Model on Full Training Set\n",
            "\t\tMaking final predictions on the full dataset\n",
            "\t\tFinal Accuracy on Full Dataset: 0.7000\n",
            "\tnaive_bayes\n",
            "\t\tPerforming grid search\n",
            "Fitting 5 folds for each of 1 candidates, totalling 5 fits\n",
            "\t\tBest Parameters: {'var_smoothing': 1e-06}\n",
            "\t\tPerforming final cross validation\n",
            "\t\t0.64375 +/- 0.030490777294126158\n",
            "\t\tTraining Best Model on Full Training Set\n",
            "\t\tMaking final predictions on the full dataset\n",
            "\t\tFinal Accuracy on Full Dataset: 0.6525\n",
            "\tknn\n",
            "\t\tPerforming grid search\n",
            "Fitting 5 folds for each of 1 candidates, totalling 5 fits\n",
            "\t\tBest Parameters: {'metric': 'euclidean', 'n_neighbors': 3, 'weights': 'distance'}\n",
            "\t\tPerforming final cross validation\n",
            "\t\t0.668125 +/- 0.01821100285541684\n",
            "\t\tTraining Best Model on Full Training Set\n",
            "\t\tMaking final predictions on the full dataset\n",
            "\t\tFinal Accuracy on Full Dataset: 0.6325\n",
            "\trandom_forest\n",
            "\t\tPerforming grid search\n",
            "Fitting 5 folds for each of 2 candidates, totalling 10 fits\n"
          ]
        },
        {
          "output_type": "stream",
          "name": "stderr",
          "text": [
            "/usr/local/lib/python3.11/dist-packages/sklearn/model_selection/_split.py:776: UserWarning: The least populated class in y has only 4 members, which is less than n_splits=5.\n",
            "  warnings.warn(\n",
            "/usr/local/lib/python3.11/dist-packages/sklearn/model_selection/_split.py:776: UserWarning: The least populated class in y has only 4 members, which is less than n_splits=10.\n",
            "  warnings.warn(\n",
            "/usr/local/lib/python3.11/dist-packages/sklearn/model_selection/_split.py:776: UserWarning: The least populated class in y has only 4 members, which is less than n_splits=5.\n",
            "  warnings.warn(\n",
            "/usr/local/lib/python3.11/dist-packages/sklearn/model_selection/_split.py:776: UserWarning: The least populated class in y has only 4 members, which is less than n_splits=10.\n",
            "  warnings.warn(\n",
            "/usr/local/lib/python3.11/dist-packages/sklearn/model_selection/_split.py:776: UserWarning: The least populated class in y has only 4 members, which is less than n_splits=5.\n",
            "  warnings.warn(\n"
          ]
        },
        {
          "output_type": "stream",
          "name": "stdout",
          "text": [
            "\t\tBest Parameters: {'max_features': 4, 'n_estimators': 450}\n",
            "\t\tPerforming final cross validation\n"
          ]
        },
        {
          "output_type": "stream",
          "name": "stderr",
          "text": [
            "/usr/local/lib/python3.11/dist-packages/sklearn/model_selection/_split.py:776: UserWarning: The least populated class in y has only 4 members, which is less than n_splits=10.\n",
            "  warnings.warn(\n"
          ]
        },
        {
          "output_type": "stream",
          "name": "stdout",
          "text": [
            "\t\t0.689375 +/- 0.03666252344015618\n",
            "\t\tTraining Best Model on Full Training Set\n",
            "\t\tMaking final predictions on the full dataset\n",
            "\t\tFinal Accuracy on Full Dataset: 0.6575\n",
            "\thyper\n",
            "\t\tSkipping Grid Search for HyperParamClassifier\n"
          ]
        },
        {
          "output_type": "stream",
          "name": "stderr",
          "text": [
            "/usr/local/lib/python3.11/dist-packages/sklearn/model_selection/_split.py:776: UserWarning: The least populated class in y has only 4 members, which is less than n_splits=10.\n",
            "  warnings.warn(\n"
          ]
        },
        {
          "output_type": "stream",
          "name": "stdout",
          "text": [
            "\t\t0.67125 +/- 0.016105123408406394\n",
            "\t\tFitting with HyperParamClassifier\n",
            "\t\tTesting HyperParamClassifier on test set\n",
            "\t\tFinal Accuracy on Full Dataset: 0.6525\n"
          ]
        }
      ],
      "source": [
        "data_model_evaluation_results = dict()\n",
        "data_sampling_rate = 1.0  # Set to 1.0 to use the full dataset\n",
        "grid_search_cv_folds = 5  # You might want to adjust this based on your computational resources\n",
        "final_cv_folds = 10  # You might want to adjust this based on your computational resources\n",
        "\n",
        "for dataset_name in datasets:\n",
        "\n",
        "    print(dataset_name)\n",
        "\n",
        "    dataset_details = datasets[dataset_name]\n",
        "\n",
        "    target_feature = dataset_details[\"target_feature\"]\n",
        "    num_classes = dataset_details[\"num_classes\"]\n",
        "    classes = dataset_details[\"classes\"]\n",
        "\n",
        "    # Load data directly from the dataset dictionary\n",
        "    dataset = datasets[dataset_name]  # Already loaded dataset\n",
        "    X = dataset[\"data\"]  # Features\n",
        "    y = dataset[\"target\"]  # Labels\n",
        "    y = np.array(y)  #  Ensure `y` is a NumPy array\n",
        "    if np.isnan(y).any():\n",
        "        print(f\"\\tDataset '{dataset_name}' contains NaN values in the target variable '{target_feature}'.\")\n",
        "\n",
        "    #downsampling forest\n",
        "    if dataset_name == \"Forest Cover Type\":\n",
        "        sample_size = min(2000, int(len(X) * data_sampling_rate))  # Limit max 2000\n",
        "        X = X[:sample_size]\n",
        "        y = y[:sample_size]\n",
        "\n",
        "    #  Split into Train (80%) and Test (20%)\n",
        "    X_train, X_test, y_train, y_test = train_test_split(X, y, test_size=0.2, random_state=42)\n",
        "\n",
        "\n",
        "    y_train = np.array(y_train)  #  Ensure NumPy array\n",
        "    y_test = np.array(y_test)\n",
        "\n",
        "\n",
        "    model_evaluation_results = dict()\n",
        "\n",
        "    for model_name in modelsBench:\n",
        "\n",
        "        print(\"\\t{}\".format(model_name))\n",
        "\n",
        "        model_details = modelsBench[model_name]\n",
        "        evaluation_results = dict()\n",
        "\n",
        "        if model_name == 'hyper':\n",
        "            #  Skip grid search, directly perform cross-validation\n",
        "            print(\"\\t\\tSkipping Grid Search for HyperParamClassifier\")\n",
        "\n",
        "            best_model = model_details['base_model']  # Directly use the base model\n",
        "            #crossvalidation\n",
        "            cv_results = sklearn.model_selection.cross_validate(best_model, X_train, y_train, cv=final_cv_folds)\n",
        "            print(\"\\t\\t{} +/- {}\".format(cv_results['test_score'].mean(), cv_results['test_score'].std()))\n",
        "\n",
        "            #Store cross-validation results\n",
        "            evaluation_results['final_cv_results'] = cv_results\n",
        "            evaluation_results['final_cv_mean'] = cv_results['test_score'].mean()\n",
        "            evaluation_results['final_cv_std_dev'] = cv_results['test_score'].std()\n",
        "\n",
        "            # fit on full training set\n",
        "            print(\"\\t\\tFitting with HyperParamClassifier\")\n",
        "            best_model.fit(X_train, y_train)\n",
        "\n",
        "            #test on test set\n",
        "            print(\"\\t\\tTesting HyperParamClassifier on test set\")\n",
        "            y_pred = best_model.predict(X_test)\n",
        "\n",
        "            # Compute Accuracy\n",
        "            accuracy = accuracy_score(y_test, y_pred)\n",
        "            print(f\"\\t\\tFinal Accuracy on Full Dataset: {accuracy:.4f}\")\n",
        "\n",
        "            #  Store predictions & accuracy\n",
        "            evaluation_results['final_predictions'] = y_pred\n",
        "            evaluation_results['final_accuracy'] = accuracy\n",
        "\n",
        "        else:\n",
        "            print('\\t\\tPerforming grid search')\n",
        "            grid_search_results = sklearn.model_selection.GridSearchCV(model_details['base_model'],\n",
        "                                                                   model_details['param_grid'],\n",
        "                                                                   cv=grid_search_cv_folds, verbose = 1,\n",
        "                                                                   n_jobs = 1)\n",
        "            grid_search_results.fit(X_train, y_train)\n",
        "            print(\"\\t\\tBest Parameters: {}\".format(grid_search_results.best_params_))\n",
        "\n",
        "            # Store the grid search results\n",
        "            evaluation_results['best_params'] = grid_search_results.best_params_\n",
        "            evaluation_results['best_score'] = grid_search_results.best_score_\n",
        "            evaluation_results['cv_results'] = grid_search_results.cv_results_\n",
        "\n",
        "            # Perform final cross validation\n",
        "            print('\\t\\tPerforming final cross validation')\n",
        "            best_model = grid_search_results.best_estimator_\n",
        "            cv_results = sklearn.model_selection.cross_validate(best_model, X_train, y_train, cv=final_cv_folds)\n",
        "            print(\"\\t\\t{} +/- {}\".format(cv_results['test_score'].mean(), cv_results['test_score'].std()))\n",
        "\n",
        "            # Store the cross validation results\n",
        "            evaluation_results['final_cv_results'] = cv_results\n",
        "            evaluation_results['final_cv_mean'] = cv_results['test_score'].mean()\n",
        "            evaluation_results['final_cv_std_dev'] = cv_results['test_score'].std()\n",
        "\n",
        "            # Train Best Model on Full Training Set\n",
        "            print(\"\\t\\tTraining Best Model on Full Training Set\")\n",
        "            best_model.fit(X_train, y_train)\n",
        "\n",
        "            # Test Best Model on Full Test Set\n",
        "            print('\\t\\tMaking final predictions on the full dataset')\n",
        "            y_pred = best_model.predict(X_test)\n",
        "\n",
        "            #  Compute Accuracy\n",
        "            accuracy = accuracy_score(y_test, y_pred)\n",
        "            print(f\"\\t\\tFinal Accuracy on Full Dataset: {accuracy:.4f}\")\n",
        "\n",
        "            #  Store predictions & accuracy\n",
        "            evaluation_results['final_predictions'] = y_pred\n",
        "            evaluation_results['final_accuracy'] = accuracy\n",
        "\n",
        "\n",
        "             # Add all evaluation details to the evaluation dictionary\n",
        "        model_evaluation_results[model_name] = evaluation_results\n",
        "\n",
        "\n",
        "    with open('evaluation_results_' + time.strftime(\"%Y%m%d_%H%M%S\") + '.data', 'wb') as f:\n",
        "      pickle.dump(model_evaluation_results, f)\n",
        "    data_model_evaluation_results[dataset_name] = model_evaluation_results\n"
      ]
    },
    {
      "cell_type": "markdown",
      "metadata": {
        "id": "PAjdyMyzUnNS"
      },
      "source": [
        "### Experiment Results Summary\n",
        "Present a series of tables and graphs illustraitng experiment results."
      ]
    },
    {
      "cell_type": "code",
      "execution_count": 26,
      "metadata": {
        "colab": {
          "base_uri": "https://localhost:8080/"
        },
        "id": "yPUjZxozUnNS",
        "outputId": "751e2b24-850a-4c4a-a331-ed9d3e251bbe"
      },
      "outputs": [
        {
          "output_type": "stream",
          "name": "stdout",
          "text": [
            "                   decision_tree  naive_bayes       knn  random_forest  \\\n",
            "Index                                                                    \n",
            "Breast Cancer           0.912281     0.956140  0.938596       0.956140   \n",
            "Digits                  0.830556     0.891667  0.983333       0.905556   \n",
            "Wine                    0.888889     1.000000  0.805556       0.388889   \n",
            "Iris                    0.966667     1.000000  1.000000       0.300000   \n",
            "Forest Cover Type       0.700000     0.652500  0.632500       0.657500   \n",
            "\n",
            "                      hyper  \n",
            "Index                        \n",
            "Breast Cancer      0.956140  \n",
            "Digits             0.983333  \n",
            "Wine               0.833333  \n",
            "Iris               1.000000  \n",
            "Forest Cover Type  0.652500  \n"
          ]
        }
      ],
      "source": [
        "data = []\n",
        "for row_key, sub_dict in data_model_evaluation_results.items():\n",
        "    row_data = {\"Index\": row_key}\n",
        "    for col_key, inner_dict in sub_dict.items():\n",
        "        row_data[col_key] = inner_dict.get('final_accuracy', None)  # Extract the specific value\n",
        "    data.append(row_data)\n",
        "results_df = pd.DataFrame(data).set_index(\"Index\")\n",
        "print(results_df)\n"
      ]
    },
    {
      "cell_type": "code",
      "source": [
        "ranks_df = results_df.rank(method=\"min\", ascending=False, axis = 1)\n",
        "print(ranks_df)"
      ],
      "metadata": {
        "colab": {
          "base_uri": "https://localhost:8080/"
        },
        "id": "PXVUUqdlhE6x",
        "outputId": "2f584e20-a3e8-4468-bcd9-b792a30708df"
      },
      "execution_count": 27,
      "outputs": [
        {
          "output_type": "stream",
          "name": "stdout",
          "text": [
            "                   decision_tree  naive_bayes  knn  random_forest  hyper\n",
            "Index                                                                   \n",
            "Breast Cancer                5.0          1.0  4.0            1.0    1.0\n",
            "Digits                       5.0          4.0  1.0            3.0    1.0\n",
            "Wine                         2.0          1.0  4.0            5.0    3.0\n",
            "Iris                         4.0          1.0  1.0            5.0    1.0\n",
            "Forest Cover Type            1.0          3.0  5.0            2.0    3.0\n"
          ]
        }
      ]
    },
    {
      "cell_type": "code",
      "source": [
        "aeon.benchmarking.stats.check_friedman(ranks_df.values)"
      ],
      "metadata": {
        "colab": {
          "base_uri": "https://localhost:8080/"
        },
        "id": "D64Ny1HFhG5G",
        "outputId": "0137d6cd-0711-41b9-9e7c-70656f91a439"
      },
      "execution_count": 28,
      "outputs": [
        {
          "output_type": "execute_result",
          "data": {
            "text/plain": [
              "1.0"
            ]
          },
          "metadata": {},
          "execution_count": 28
        }
      ]
    },
    {
      "cell_type": "code",
      "source": [
        "avg_ranks = np.mean(ranks_df, axis=0)\n",
        "print(avg_ranks)\n",
        "aeon.benchmarking.stats.nemenyi_test(avg_ranks, len(avg_ranks), 0.05)"
      ],
      "metadata": {
        "colab": {
          "base_uri": "https://localhost:8080/"
        },
        "id": "JWBEPlifhJ_B",
        "outputId": "5c5ae343-c4db-4f65-ae11-029cdc1066d1"
      },
      "execution_count": 29,
      "outputs": [
        {
          "output_type": "stream",
          "name": "stdout",
          "text": [
            "decision_tree    3.4\n",
            "naive_bayes      2.0\n",
            "knn              3.0\n",
            "random_forest    3.2\n",
            "hyper            1.8\n",
            "dtype: float64\n"
          ]
        },
        {
          "output_type": "execute_result",
          "data": {
            "text/plain": [
              "array([[ True, False, False, False, False],\n",
              "       [ True,  True,  True,  True, False],\n",
              "       [ True, False,  True,  True, False],\n",
              "       [ True, False, False,  True, False],\n",
              "       [ True,  True,  True,  True,  True]])"
            ]
          },
          "metadata": {},
          "execution_count": 29
        }
      ]
    },
    {
      "cell_type": "code",
      "source": [
        "ranks_df.index"
      ],
      "metadata": {
        "colab": {
          "base_uri": "https://localhost:8080/"
        },
        "id": "9v75Ck3ghMI0",
        "outputId": "7ead0329-87f7-4791-f72c-81be837cbff6"
      },
      "execution_count": 30,
      "outputs": [
        {
          "output_type": "execute_result",
          "data": {
            "text/plain": [
              "Index(['Breast Cancer', 'Digits', 'Wine', 'Iris', 'Forest Cover Type'], dtype='object', name='Index')"
            ]
          },
          "metadata": {},
          "execution_count": 30
        }
      ]
    },
    {
      "cell_type": "code",
      "source": [
        "aeon.visualisation.plot_critical_difference(ranks_df.values,\n",
        "                                            ranks_df.columns,\n",
        "                                            test=\"Nemenyi\")\n",
        "plt.show()"
      ],
      "metadata": {
        "colab": {
          "base_uri": "https://localhost:8080/",
          "height": 277
        },
        "id": "z2NXLMuehOJ1",
        "outputId": "0bd08ef2-416d-4cb1-8e3c-e077d33a4d40"
      },
      "execution_count": 31,
      "outputs": [
        {
          "output_type": "display_data",
          "data": {
            "text/plain": [
              "<Figure size 600x240 with 1 Axes>"
            ],
            "image/png": "[encoded data removed]"
          },
          "metadata": {}
        }
      ]
    },
    {
      "cell_type": "markdown",
      "metadata": {
        "id": "COHecVeiUnNS"
      },
      "source": [
        "## Task 4: Reflection\n",
        "A short (less than 400 words) reflection on the results of the experiment and the experience of running it.\n"
      ]
    },
    {
      "cell_type": "markdown",
      "metadata": {
        "id": "AHk4d3FQUnNS"
      },
      "source": [
        "The goal of this assignment is to create and evaluate the performance of our ensemble KNN classifier (HyperParamEnsemble) against four traditional models: Decision Tree, Naive Bayes, KNN, and Random Forest.\n",
        "\n",
        "I have used only light and numerical datasets already available in the Scikit-Learn library to reduce computational load on my budget PC.\n",
        "\n",
        "From the results obtained after defining my HyperParamEnsembleClassifier as an ensemble of KNNs (with n_estimators set to 3), where each KNN was initialized with a random combination of parameters from the following grid:\n",
        "\n",
        "param_grid = {\n",
        "    'n_neighbors': list(range(3, 6, 2)),  \n",
        "    'weights': ['distance'],  \n",
        "    'metric': ['euclidean', 'manhattan']  \n",
        "}\n",
        "We can clearly see that our ensemble was the best-performing model compared to the other classifiers, achieving an accuracy of around 0.65 for large datasets and 1.00 for smaller datasets.\n",
        "\n",
        "It’s important to note that the other models also used the best possible hyperparameters. Although a full grid search was not performed for all models (to alleviate computational load), the chosen hyperparameters were based on previous assignments (Task 2) and are expected to be the optimal settings for each model. Even with optimized parameters, none of the models were able to outperform our KNN ensemble.\n",
        "\n",
        "The worst-performing model was Decision Tree, possibly because this model performs better with categorical data. However, Naive Bayes outperformed our HyperParamEnsemble on the Wine dataset. This suggests that certain models may be better suited for specific data structures. Additionally, Random Forest performed unexpectedly poorly on the Wine and Iris datasets, possibly due to limitations in feature selection or overfitting.\n",
        "\n",
        "While the HyperParamEnsemble showed strong performance, this study was limited to only five datasets, meaning the results may not generalize to larger, more complex datasets. Future work could explore other ensembling techniques, such as stacking or boosting, and compare different base models beyond KNN."
      ]
    }
  ],
  "metadata": {
    "kernelspec": {
      "display_name": "Python 3 (ipykernel)",
      "language": "python",
      "name": "python3"
    },
    "language_info": {
      "codemirror_mode": {
        "name": "ipython",
        "version": 3
      },
      "file_extension": ".py",
      "mimetype": "text/x-python",
      "name": "python",
      "nbconvert_exporter": "python",
      "pygments_lexer": "ipython3",
      "version": "3.12.1"
    },
    "colab": {
      "provenance": []
    }
  },
  "nbformat": 4,
  "nbformat_minor": 0
}
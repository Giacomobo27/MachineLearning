{
 "cells": [
  {
   "cell_type": "code",
   "execution_count": null,
   "metadata": {
    "scrolled": true
   },
   "outputs": [],
   "source": [
    "import csv\n",
    "from PIL import Image\n",
    "import numpy as np\n",
    "import os\n",
    "\n",
    "last_digit_Name =  None\n",
    "\n",
    "#your path to target folder to save images. Note: Path should have 33 empty folder with name as Alphabet_list\n",
    "image_Folder_Path = \"img\" \n",
    "\n",
    "\n",
    "## uncomment according to the version you want \n",
    "csv_File_Path = \"Latin-version.csv\"\n",
    "#csv_File_Path = \"Tifinagh-version.csv\" \n",
    "\n",
    "Alphabet_list = [\"A\",\"Ԑ\",\"B\",\"C\",\"Č\",\"D\",\"Ḍ\",\"E\",\"F\",\"G\",\"Ǧ\",\"H\",\"Ḥ\",\"I\",\"J\",\"K\",\"L\",\"M\",\"N\",\"Q\",\"Γ\",\"R\",\"Ṛ\",\"S\",\"Ṣ\",\"T\",\"Ṭ\",\n",
    "                 \"TT\",\"U\",\"W\",\"X\",\"Y\",\"Z\",\"Ẓ\"]\n",
    "\n",
    "#Alphabet_list = [\"ⴰ\",\"ⴱ\",\"ⵛ\",\"ⴷ\",\"ⴹ\",\"ⵄ\",\"ⴼ\",\"ⴳ\",\"ⵖ\",\"ⴳⵯ\",\"ⵀ\",\"ⵃ\",\"ⵊ\",\"ⴽ\",\"ⴽⵯ\",\"ⵍ\",\"ⵎ\",\"ⵏ\",\"ⵇ\",\"ⵔ\",\"ⵕ\",\"ⵙ\",\"ⵚ\",\"ⵜ\",\"ⵟ\",\n",
    "#                \"ⵡ\",\"ⵅ\",\"ⵢ\",\"ⵣ\",\"ⵥ\",\"ⴻ\",\"ⵉ\",\"ⵓ\"]\n",
    "\n",
    "for alphabet in Alphabet_list:\n",
    "    path = image_Folder_Path + '\\\\' + alphabet\n",
    "    if not os.path.exists(path):\n",
    "        os.makedirs(path)\n",
    "\n",
    "#open csv\n",
    "with open(csv_File_Path, newline='') as csvfile:\n",
    "    reader = csv.reader(csvfile, delimiter=',', quotechar='|')\n",
    "    count = 0\n",
    "    for row in reader:\n",
    "        #The first column in each row is removed and treated as a label (instead of image pixel data).\n",
    "        digit_Name = row.pop(0)\n",
    "\n",
    "        #Each image is reshaped into a 28×28 grid.\n",
    "        image_array = np.asarray(row)\n",
    "        image_array = image_array.reshape(28, 28)\n",
    "\n",
    "        #uint8 (unsigned 8-bit integer) means pixel values range from 0 to 255.\n",
    "        new_image = Image.fromarray(image_array.astype('uint8'))\n",
    "\n",
    "\n",
    "        if last_digit_Name != str(Alphabet_list[(int)(digit_Name)]):\n",
    "            last_digit_Name = str(Alphabet_list[(int)(digit_Name)])\n",
    "            count = 0\n",
    "            print (\"\")\n",
    "            print (\"Prcessing Alphabet - \" + str (last_digit_Name))\n",
    "        \n",
    "        #save into img\n",
    "        image_Path = image_Folder_Path + '\\\\' + last_digit_Name + '\\\\' + str(last_digit_Name) + '-' + str(count) + '.png'\n",
    "        new_image.save(image_Path)\n",
    "        count = count + 1\n",
    "\n",
    "        if count % 1000 == 0:\n",
    "            print (\"Images processed: \" + str(count))"
   ]
  },
  {
   "cell_type": "code",
   "execution_count": null,
   "metadata": {},
   "outputs": [],
   "source": []
  }
 ],
 "metadata": {
  "kernelspec": {
   "display_name": "Python 3",
   "language": "python",
   "name": "python3"
  },
  "language_info": {
   "codemirror_mode": {
    "name": "ipython",
    "version": 3
   },
   "file_extension": ".py",
   "mimetype": "text/x-python",
   "name": "python",
   "nbconvert_exporter": "python",
   "pygments_lexer": "ipython3",
   "version": "3.8.5"
  }
 },
 "nbformat": 4,
 "nbformat_minor": 2
}

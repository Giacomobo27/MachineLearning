{
  "cells": [
    {
      "cell_type": "markdown",
      "metadata": {
        "id": "vSrUsHUkaxYR"
      },
      "source": [
        "# COMP47590 Advanced Machine Learning\n",
        "# Pefroming a Machine Learning Benchmarking Experiment in Python"
      ]
    },
    {
      "cell_type": "markdown",
      "metadata": {
        "id": "gx_pB8knaxYS"
      },
      "source": [
        "## Imports"
      ]
    },
    {
      "cell_type": "markdown",
      "metadata": {
        "id": "l9yQmgzvaxYS"
      },
      "source": [
        "Import the libraries we will use - **aeon** is the new one we use for nice benchmarking imlpementations."
      ]
    },
    {
      "cell_type": "code",
      "execution_count": null,
      "metadata": {
        "colab": {
          "base_uri": "https://localhost:8080/"
        },
        "id": "EREO4yIGaxYT",
        "outputId": "652d3001-35fa-46f8-8621-bc9d38b54985"
      },
      "outputs": [
        {
          "name": "stdout",
          "output_type": "stream",
          "text": [
            "Requirement already satisfied: aeon in /usr/local/lib/python3.11/dist-packages (1.0.0)\n",
            "Requirement already satisfied: deprecated>=1.2.13 in /usr/local/lib/python3.11/dist-packages (from aeon) (1.2.18)\n",
            "Requirement already satisfied: numba<0.61.0,>=0.55 in /usr/local/lib/python3.11/dist-packages (from aeon) (0.60.0)\n",
            "Requirement already satisfied: numpy<2.1.0,>=1.21.0 in /usr/local/lib/python3.11/dist-packages (from aeon) (1.26.4)\n",
            "Requirement already satisfied: packaging>=20.0 in /usr/local/lib/python3.11/dist-packages (from aeon) (24.2)\n",
            "Requirement already satisfied: pandas<2.3.0,>=2.0.0 in /usr/local/lib/python3.11/dist-packages (from aeon) (2.2.2)\n",
            "Requirement already satisfied: scikit-learn<1.6.0,>=1.0.0 in /usr/local/lib/python3.11/dist-packages (from aeon) (1.5.2)\n",
            "Requirement already satisfied: scipy<1.15.0,>=1.9.0 in /usr/local/lib/python3.11/dist-packages (from aeon) (1.13.1)\n",
            "Requirement already satisfied: typing-extensions>=4.6.0 in /usr/local/lib/python3.11/dist-packages (from aeon) (4.12.2)\n",
            "Requirement already satisfied: wrapt<2,>=1.10 in /usr/local/lib/python3.11/dist-packages (from deprecated>=1.2.13->aeon) (1.17.2)\n",
            "Requirement already satisfied: llvmlite<0.44,>=0.43.0dev0 in /usr/local/lib/python3.11/dist-packages (from numba<0.61.0,>=0.55->aeon) (0.43.0)\n",
            "Requirement already satisfied: python-dateutil>=2.8.2 in /usr/local/lib/python3.11/dist-packages (from pandas<2.3.0,>=2.0.0->aeon) (2.8.2)\n",
            "Requirement already satisfied: pytz>=2020.1 in /usr/local/lib/python3.11/dist-packages (from pandas<2.3.0,>=2.0.0->aeon) (2025.1)\n",
            "Requirement already satisfied: tzdata>=2022.7 in /usr/local/lib/python3.11/dist-packages (from pandas<2.3.0,>=2.0.0->aeon) (2025.1)\n",
            "Requirement already satisfied: joblib>=1.2.0 in /usr/local/lib/python3.11/dist-packages (from scikit-learn<1.6.0,>=1.0.0->aeon) (1.4.2)\n",
            "Requirement already satisfied: threadpoolctl>=3.1.0 in /usr/local/lib/python3.11/dist-packages (from scikit-learn<1.6.0,>=1.0.0->aeon) (3.5.0)\n",
            "Requirement already satisfied: six>=1.5 in /usr/local/lib/python3.11/dist-packages (from python-dateutil>=2.8.2->pandas<2.3.0,>=2.0.0->aeon) (1.17.0)\n"
          ]
        }
      ],
      "source": [
        "# If using Google Colab uncomment this line to add the aeon package.\n",
        "#jin giacomo 24216191\n",
        "!pip install aeon"
      ]
    },
    {
      "cell_type": "code",
      "execution_count": 56,
      "metadata": {
        "id": "J2BD9WLKaxYT",
        "scrolled": true
      },
      "outputs": [],
      "source": [
        "import io\n",
        "import random\n",
        "import time\n",
        "import pickle\n",
        "\n",
        "import pandas as pd # core data handling package\n",
        "import numpy as np # core data handling package\n",
        "import matplotlib # core plotting functioanlity\n",
        "import matplotlib.pyplot as plt\n",
        "%matplotlib inline\n",
        "\n",
        "import seaborn as sns # nicer plotting functionlity\n",
        "\n",
        "import sklearn # For basic machine learning functionality\n",
        "import sklearn.preprocessing\n",
        "import sklearn.metrics\n",
        "import sklearn.model_selection\n",
        "import sklearn.tree\n",
        "import sklearn.ensemble\n",
        "\n",
        "import aeon # time series classification package with nice benchmarking functions\n",
        "import aeon.benchmarking\n",
        "import aeon.benchmarking.stats\n",
        "import aeon.visualisation\n",
        "\n"
      ]
    },
    {
      "cell_type": "markdown",
      "metadata": {
        "id": "78heEHOdaxYT"
      },
      "source": [
        "## Google Colab"
      ]
    },
    {
      "cell_type": "markdown",
      "metadata": {
        "id": "cLpsa2JaaxYU"
      },
      "source": [
        "If using Google Colab comment out code in these cells to mount your Google drive for data access."
      ]
    },
    {
      "cell_type": "code",
      "execution_count": 57,
      "metadata": {
        "id": "RHWKQPSqaxYU"
      },
      "outputs": [],
      "source": [
        "#from google.colab import drive\n",
        "#drive.mount('/content/drive')"
      ]
    },
    {
      "cell_type": "markdown",
      "metadata": {
        "id": "piOWpsCHaxYU"
      },
      "source": [
        "Uncomment this code and change the path to match where you have stored course data"
      ]
    },
    {
      "cell_type": "code",
      "execution_count": 58,
      "metadata": {
        "id": "yGBmGQhJaxYU"
      },
      "outputs": [],
      "source": [
        "#%cd /content/drive/MyDrive/Teaching/UCD Advanced Machine Learning/2024-2025/Labs Public/"
      ]
    },
    {
      "cell_type": "markdown",
      "metadata": {
        "id": "4acnegSnaxYU"
      },
      "source": [
        "## Setup"
      ]
    },
    {
      "cell_type": "markdown",
      "metadata": {
        "id": "CFLUb5jJaxYV"
      },
      "source": [
        "Take only a sample of the dataset for fast testing"
      ]
    },
    {
      "cell_type": "code",
      "execution_count": 59,
      "metadata": {
        "id": "Sx_QNgHgaxYV"
      },
      "outputs": [],
      "source": [
        "data_sampling_rate = 0.1"
      ]
    },
    {
      "cell_type": "markdown",
      "metadata": {
        "id": "ZKAPGiX1axYV"
      },
      "source": [
        "Setup the number of folds for all grid searches (should be 5 - 10)"
      ]
    },
    {
      "cell_type": "code",
      "execution_count": 60,
      "metadata": {
        "id": "ColI-_rpaxYV"
      },
      "outputs": [],
      "source": [
        "grid_search_cv_folds = 2"
      ]
    },
    {
      "cell_type": "markdown",
      "metadata": {
        "id": "cs3-BGtzaxYV"
      },
      "source": [
        "Setup the number of folds for all grid searches (should be 5 - 10)"
      ]
    },
    {
      "cell_type": "code",
      "execution_count": 61,
      "metadata": {
        "id": "yW7zdv5JaxYV"
      },
      "outputs": [],
      "source": [
        "final_cv_folds = 2"
      ]
    },
    {
      "cell_type": "markdown",
      "metadata": {
        "id": "-0pqR6dXaxYV"
      },
      "source": [
        "Set up a dictionary to store simple model performance comparions"
      ]
    },
    {
      "cell_type": "code",
      "execution_count": 62,
      "metadata": {
        "id": "3nKl9WBAaxYV"
      },
      "outputs": [],
      "source": [
        "model_evaluation_results = dict()"
      ]
    },
    {
      "cell_type": "markdown",
      "metadata": {
        "id": "5DlM_atcaxYV"
      },
      "source": [
        "### Setup Datasets"
      ]
    },
    {
      "cell_type": "markdown",
      "metadata": {
        "id": "TTLmhf__axYV"
      },
      "source": [
        "Set up a dictionary to store details of datasets to be used in the experiment"
      ]
    },
    {
      "cell_type": "code",
      "execution_count": 63,
      "metadata": {
        "id": "tAGwJLW3axYV"
      },
      "outputs": [],
      "source": [
        "datasets = dict()"
      ]
    },
    {
      "cell_type": "markdown",
      "metadata": {
        "id": "WnNqSJWOaxYV"
      },
      "source": [
        "Load the dataset and explore it."
      ]
    },
    {
      "cell_type": "code",
      "execution_count": 64,
      "metadata": {
        "id": "07oRuLM-axYV"
      },
      "outputs": [],
      "source": [
        "dataset_details = dict()\n",
        "dataset_details[\"file_name\"] = 'mnist_train.csv'\n",
        "dataset_details[\"target_feature\"] = \"label\"\n",
        "dataset_details[\"num_classes\"] = 10\n",
        "dataset_details[\"classes\"] = {0: \"0\", 1:\"1\", 2: \"2\", 3:\"3\", 4:\"4\", 5:\"5\", 6:\"6\", 7:\"7\", 8:\"8\", 9:\"9\"}\n",
        "datasets[\"mnist\"] = dataset_details"
      ]
    },
    {
      "cell_type": "code",
      "execution_count": 65,
      "metadata": {
        "id": "GG9bjBQ0axYV"
      },
      "outputs": [],
      "source": [
        "dataset_details = dict()\n",
        "dataset_details[\"file_name\"] = 'fashion-mnist_train.csv'\n",
        "dataset_details[\"target_feature\"] = \"label\"\n",
        "dataset_details[\"num_classes\"] = 10\n",
        "dataset_details[\"classes\"] = {0: \"T-shirt/top\", 1:\"Trouser\", 2: \"Pullover\", 3:\"Dress\", 4:\"Coat\", 5:\"Sandal\", 6:\"Shirt\", 7:\"Sneaker\", 8:\"Bag\", 9:\"Ankle boot\"}\n",
        "datasets[\"mnist_fashion\"] = dataset_details"
      ]
    },
    {
      "cell_type": "code",
      "execution_count": 66,
      "metadata": {
        "id": "G2iwySNpaxYV"
      },
      "outputs": [],
      "source": [
        "dataset_details = dict()\n",
        "dataset_details[\"file_name\"] = 'kmnist.csv'\n",
        "dataset_details[\"target_feature\"] = \"label\"\n",
        "dataset_details[\"num_classes\"] = 10\n",
        "dataset_details[\"classes\"] = {0: \"0\", 1:\"1\", 2: \"2\", 3:\"3\", 4:\"4\", 5:\"5\", 6:\"6\", 7:\"7\", 8:\"8\", 9:\"9\"}\n",
        "datasets[\"kmnist\"] = dataset_details"
      ]
    },
    {
      "cell_type": "code",
      "execution_count": 67,
      "metadata": {
        "id": "b6LSBSoCRO_y"
      },
      "outputs": [],
      "source": [
        "dataset_details = dict()\n",
        "dataset_details[\"file_name\"] = 'berber-mnist.csv'\n",
        "dataset1 =pd.read_csv('berber-mnist.csv')\n",
        "dataset_details[\"target_feature\"] = dataset1.columns[0]\n",
        "dataset_details[\"num_classes\"] = 34\n",
        "dataset_details[\"classes\"] = {0:\"A\",1:\"Ԑ\",2:\"B\",3:\"C\",4:\"Č\",5:\"D\",6:\"Ḍ\",7:\"E\",8:\"F\",9:\"G\",10:\"Ǧ\",11:\"H\",12:\"Ḥ\",13:\"I\",14:\"J\",15:\"K\",16:\"L\",17:\"M\",18:\"N\",19:\"Q\",20:\"Γ\",21:\"R\",22:\"Ṛ\",23:\"S\",24:\"Ṣ\",25:\"T\",26:\"Ṭ\",\n",
        "                 27:\"TT\",28:\"U\",29:\"W\",30:\"X\",31:\"Y\",32:\"Z\",33:\"Ẓ\"}\n",
        "datasets[\"berber-mnist\"] = dataset_details"
      ]
    },
    {
      "cell_type": "markdown",
      "metadata": {
        "id": "7me6WLLiaxYV"
      },
      "source": [
        "### Setup Models"
      ]
    },
    {
      "cell_type": "markdown",
      "metadata": {
        "id": "fX3cJAhOaxYV"
      },
      "source": [
        "Setup a dictioanry of models and hyper-parramtee training details that will be evaluated."
      ]
    },
    {
      "cell_type": "code",
      "execution_count": 68,
      "metadata": {
        "id": "F0qCgozMaxYV"
      },
      "outputs": [],
      "source": [
        "models = dict()"
      ]
    },
    {
      "cell_type": "markdown",
      "metadata": {
        "id": "ByQy3FZTaxYV"
      },
      "source": [
        "Decision Tree"
      ]
    },
    {
      "cell_type": "code",
      "execution_count": 69,
      "metadata": {
        "id": "u0LWsizRaxYW"
      },
      "outputs": [],
      "source": [
        "model_details = dict()\n",
        "model_details['base_model'] = sklearn.tree.DecisionTreeClassifier()\n",
        "model_details['param_grid'] ={'criterion': ['gini', \"entropy\"],\n",
        "                              'max_depth': list(range(6, 13, 3)),\n",
        "                              'min_samples_split': [50]}\n",
        "models['decision_tree'] = model_details"
      ]
    },
    {
      "cell_type": "markdown",
      "metadata": {
        "id": "-d5lQGsbWeSe"
      },
      "source": [
        "K-Nearest Neighbors"
      ]
    },
    {
      "cell_type": "code",
      "execution_count": 70,
      "metadata": {
        "id": "VgKPskC2Wm6z"
      },
      "outputs": [],
      "source": [
        "model_details = dict()\n",
        "model_details['base_model'] = sklearn.neighbors.KNeighborsClassifier()\n",
        "model_details['param_grid'] = {\n",
        "    'n_neighbors': list(range(3,6,2)),\n",
        "    'weights': ['distance'],\n",
        "    'metric': ['euclidean', 'manhattan']}\n",
        "models['knn'] = model_details"
      ]
    },
    {
      "cell_type": "markdown",
      "metadata": {
        "id": "ql8wRZgzW5jD"
      },
      "source": [
        "Naive Bayes"
      ]
    },
    {
      "cell_type": "code",
      "execution_count": 71,
      "metadata": {
        "id": "bd7abninW5Bv"
      },
      "outputs": [],
      "source": [
        "from sklearn.naive_bayes import GaussianNB\n",
        "model_details = dict()\n",
        "model_details['base_model'] = sklearn.naive_bayes.GaussianNB()\n",
        "model_details['param_grid'] = {\n",
        "    'var_smoothing': [1e-7, 1e-6]\n",
        "}\n",
        "models['naive_bayes'] = model_details"
      ]
    },
    {
      "cell_type": "markdown",
      "metadata": {
        "id": "JE8Hs4eIaxYW"
      },
      "source": [
        "Bagging"
      ]
    },
    {
      "cell_type": "code",
      "execution_count": 72,
      "metadata": {
        "id": "lyxFBkMFaxYW"
      },
      "outputs": [],
      "source": [
        "model_details = dict()\n",
        "model_details['base_model'] = sklearn.ensemble.BaggingClassifier(estimator = sklearn.tree.DecisionTreeClassifier(criterion=\"entropy\", max_depth = 6, min_samples_leaf = 200))\n",
        "model_details['param_grid'] ={'n_estimators': list(range(350, 451, 50))}\n",
        "models['bagging'] = model_details"
      ]
    },
    {
      "cell_type": "markdown",
      "metadata": {
        "id": "R0SXS_oraxYW"
      },
      "source": [
        "Gradient Boosting"
      ]
    },
    {
      "cell_type": "code",
      "execution_count": 73,
      "metadata": {
        "id": "ugIHm4MhaxYW"
      },
      "outputs": [],
      "source": [
        "#model_details = dict()\n",
        "#model_details['base_model'] = sklearn.ensemble.GradientBoostingClassifier(max_depth = 3)\n",
        "#model_details['param_grid'] = {'n_estimators': list(range(50, 501, 100)),\n",
        "#                               'learning_rate': [0.001, 0.01, 0.1]}\n",
        "#models['gradient_boosting'] = model_details"
      ]
    },
    {
      "cell_type": "markdown",
      "metadata": {
        "id": "7rSN5_oNaxYW"
      },
      "source": [
        "Random Forest"
      ]
    },
    {
      "cell_type": "code",
      "execution_count": 74,
      "metadata": {
        "id": "7X9j9sWbaxYW"
      },
      "outputs": [],
      "source": [
        "model_details = dict()\n",
        "model_details['base_model'] = sklearn.ensemble.RandomForestClassifier(min_samples_split=200)\n",
        "model_details['param_grid'] = {'n_estimators': list(range(50, 501, 100)),\n",
        "                               'max_features': list(range(2, 9, 2))}\n",
        "models['random_forest'] = model_details"
      ]
    },
    {
      "cell_type": "markdown",
      "metadata": {
        "id": "XYlvmbi-axYW"
      },
      "source": [
        "## Experiment Loop"
      ]
    },
    {
      "cell_type": "markdown",
      "metadata": {
        "id": "Jb4KcD5BaxYW"
      },
      "source": [
        "Iterate through each dataset and then for each model. For exach combination perfomr a hyper-parameter tuning grid search and a final cross validation experiment."
      ]
    },
    {
      "cell_type": "code",
      "execution_count": 75,
      "metadata": {
        "colab": {
          "base_uri": "https://localhost:8080/"
        },
        "id": "GIx9X34paxYb",
        "outputId": "a4ca1377-bb1e-4fc1-926a-2acd971e9b22"
      },
      "outputs": [
        {
          "name": "stdout",
          "output_type": "stream",
          "text": [
            "mnist\n",
            "\tdecision_tree\n",
            "\t\tPerforming grid search\n",
            "Fitting 2 folds for each of 6 candidates, totalling 12 fits\n",
            "\t\tBest Parameters: {'criterion': 'gini', 'max_depth': 12, 'min_samples_split': 50}\n",
            "\t\tPerforming final cross validation\n",
            "\t\t0.7175 +/- 0.0025000000000000022\n",
            "\tknn\n",
            "\t\tPerforming grid search\n",
            "Fitting 2 folds for each of 4 candidates, totalling 8 fits\n",
            "\t\tBest Parameters: {'metric': 'euclidean', 'n_neighbors': 3, 'weights': 'distance'}\n",
            "\t\tPerforming final cross validation\n",
            "\t\t0.9198333333333333 +/- 0.0011666666666667047\n",
            "\tnaive_bayes\n",
            "\t\tPerforming grid search\n",
            "Fitting 2 folds for each of 2 candidates, totalling 4 fits\n",
            "\t\tBest Parameters: {'var_smoothing': 1e-06}\n",
            "\t\tPerforming final cross validation\n",
            "\t\t0.6288333333333334 +/- 0.003166666666666651\n",
            "\tbagging\n",
            "\t\tPerforming grid search\n",
            "Fitting 2 folds for each of 3 candidates, totalling 6 fits\n",
            "\t\tBest Parameters: {'n_estimators': 350}\n",
            "\t\tPerforming final cross validation\n",
            "\t\t0.6218333333333332 +/- 0.03583333333333333\n",
            "\trandom_forest\n",
            "\t\tPerforming grid search\n",
            "Fitting 2 folds for each of 20 candidates, totalling 40 fits\n",
            "\t\tBest Parameters: {'max_features': 4, 'n_estimators': 450}\n",
            "\t\tPerforming final cross validation\n",
            "\t\t0.822 +/- 0.0010000000000000009\n",
            "mnist_fashion\n",
            "\tdecision_tree\n",
            "\t\tPerforming grid search\n",
            "Fitting 2 folds for each of 6 candidates, totalling 12 fits\n",
            "\t\tBest Parameters: {'criterion': 'entropy', 'max_depth': 12, 'min_samples_split': 50}\n",
            "\t\tPerforming final cross validation\n",
            "\t\t0.7431666666666666 +/- 0.004833333333333356\n",
            "\tknn\n",
            "\t\tPerforming grid search\n",
            "Fitting 2 folds for each of 4 candidates, totalling 8 fits\n",
            "\t\tBest Parameters: {'metric': 'manhattan', 'n_neighbors': 3, 'weights': 'distance'}\n",
            "\t\tPerforming final cross validation\n",
            "\t\t0.813 +/- 0.002333333333333354\n",
            "\tnaive_bayes\n",
            "\t\tPerforming grid search\n",
            "Fitting 2 folds for each of 2 candidates, totalling 4 fits\n",
            "\t\tBest Parameters: {'var_smoothing': 1e-06}\n",
            "\t\tPerforming final cross validation\n",
            "\t\t0.6074999999999999 +/- 0.004500000000000004\n",
            "\tbagging\n",
            "\t\tPerforming grid search\n",
            "Fitting 2 folds for each of 3 candidates, totalling 6 fits\n",
            "\t\tBest Parameters: {'n_estimators': 450}\n",
            "\t\tPerforming final cross validation\n",
            "\t\t0.6268333333333334 +/- 0.01050000000000001\n",
            "\trandom_forest\n",
            "\t\tPerforming grid search\n",
            "Fitting 2 folds for each of 20 candidates, totalling 40 fits\n",
            "\t\tBest Parameters: {'max_features': 8, 'n_estimators': 450}\n",
            "\t\tPerforming final cross validation\n",
            "\t\t0.7928333333333333 +/- 0.0015000000000000013\n",
            "kmnist\n",
            "\tdecision_tree\n",
            "\t\tPerforming grid search\n",
            "Fitting 2 folds for each of 6 candidates, totalling 12 fits\n",
            "\t\tBest Parameters: {'criterion': 'gini', 'max_depth': 9, 'min_samples_split': 50}\n",
            "\t\tPerforming final cross validation\n",
            "\t\t0.5843333333333334 +/- 0.003333333333333355\n",
            "\tknn\n",
            "\t\tPerforming grid search\n",
            "Fitting 2 folds for each of 4 candidates, totalling 8 fits\n",
            "\t\tBest Parameters: {'metric': 'euclidean', 'n_neighbors': 3, 'weights': 'distance'}\n",
            "\t\tPerforming final cross validation\n",
            "\t\t0.8991666666666667 +/- 0.0034999999999999476\n",
            "\tnaive_bayes\n",
            "\t\tPerforming grid search\n",
            "Fitting 2 folds for each of 2 candidates, totalling 4 fits\n",
            "\t\tBest Parameters: {'var_smoothing': 1e-06}\n",
            "\t\tPerforming final cross validation\n",
            "\t\t0.5293333333333333 +/- 0.008000000000000007\n",
            "\tbagging\n",
            "\t\tPerforming grid search\n",
            "Fitting 2 folds for each of 3 candidates, totalling 6 fits\n",
            "\t\tBest Parameters: {'n_estimators': 450}\n",
            "\t\tPerforming final cross validation\n",
            "\t\t0.41633333333333333 +/- 0.005666666666666653\n",
            "\trandom_forest\n",
            "\t\tPerforming grid search\n",
            "Fitting 2 folds for each of 20 candidates, totalling 40 fits\n",
            "\t\tBest Parameters: {'max_features': 2, 'n_estimators': 450}\n",
            "\t\tPerforming final cross validation\n",
            "\t\t0.7346666666666667 +/- 0.009000000000000008\n",
            "berber-mnist\n",
            "\tdecision_tree\n",
            "\t\tPerforming grid search\n",
            "Fitting 2 folds for each of 6 candidates, totalling 12 fits\n",
            "\t\tBest Parameters: {'criterion': 'entropy', 'max_depth': 12, 'min_samples_split': 50}\n",
            "\t\tPerforming final cross validation\n",
            "\t\t0.6982014678603113 +/- 0.005887571578353068\n",
            "\tknn\n",
            "\t\tPerforming grid search\n",
            "Fitting 2 folds for each of 4 candidates, totalling 8 fits\n",
            "\t\tBest Parameters: {'metric': 'euclidean', 'n_neighbors': 3, 'weights': 'distance'}\n",
            "\t\tPerforming final cross validation\n",
            "\t\t0.911444471328333 +/- 0.001532381643680969\n",
            "\tnaive_bayes\n",
            "\t\tPerforming grid search\n",
            "Fitting 2 folds for each of 2 candidates, totalling 4 fits\n",
            "\t\tBest Parameters: {'var_smoothing': 1e-06}\n",
            "\t\tPerforming final cross validation\n",
            "\t\t0.6483184127752237 +/- 0.005282684087426437\n",
            "\tbagging\n",
            "\t\tPerforming grid search\n",
            "Fitting 2 folds for each of 3 candidates, totalling 6 fits\n",
            "\t\tBest Parameters: {'n_estimators': 400}\n",
            "\t\tPerforming final cross validation\n",
            "\t\t0.5427453826921527 +/- 0.0010081458182111258\n",
            "\trandom_forest\n",
            "\t\tPerforming grid search\n",
            "Fitting 2 folds for each of 20 candidates, totalling 40 fits\n",
            "\t\tBest Parameters: {'max_features': 8, 'n_estimators': 250}\n",
            "\t\tPerforming final cross validation\n",
            "\t\t0.7195338333736592 +/- 0.0010887974836680803\n"
          ]
        }
      ],
      "source": [
        "data_model_evaluation_results = dict()\n",
        "\n",
        "for dataset_name in datasets:\n",
        "\n",
        "    print(dataset_name)\n",
        "\n",
        "    dataset_details = datasets[dataset_name]\n",
        "\n",
        "    file_name = dataset_details[\"file_name\"]\n",
        "    target_feature = dataset_details[\"target_feature\"]\n",
        "    num_classes = dataset_details[\"num_classes\"]\n",
        "    classes = dataset_details[\"classes\"]\n",
        "\n",
        "    dataset = pd.read_csv(file_name)\n",
        "    dataset = dataset.sample(frac=data_sampling_rate) #take a sample from the dataset so everything runs smoothly\n",
        "\n",
        "    X = dataset.loc[:, dataset.columns != target_feature]\n",
        "    y = dataset[target_feature]\n",
        "\n",
        "    if y.isnull().any():\n",
        "        print(f\"\\tDataset '{dataset_name}' contains NaN values in the target variable '{target_feature}'.\")\n",
        "\n",
        "    model_evaluation_results = dict()\n",
        "\n",
        "    for model_name in models:\n",
        "\n",
        "        print(\"\\t{}\".format(model_name))\n",
        "\n",
        "        model_details = models[model_name]\n",
        "\n",
        "        evaluation_results = dict()\n",
        "\n",
        "        # Perform a grid search\n",
        "        print('\\t\\tPerforming grid search')\n",
        "        grid_search_results = sklearn.model_selection.GridSearchCV(model_details['base_model'],\n",
        "                                                                   model_details['param_grid'],\n",
        "                                                                   cv=grid_search_cv_folds, verbose = 1,\n",
        "                                                                   n_jobs = -1)\n",
        "        grid_search_results.fit(X, y)\n",
        "        print(\"\\t\\tBest Parameters: {}\".format(grid_search_results.best_params_))\n",
        "\n",
        "        # Store the grid search results\n",
        "        evaluation_results['best_params'] = grid_search_results.best_params_\n",
        "        evaluation_results['best_score'] = grid_search_results.best_score_\n",
        "        evaluation_results['cv_results'] = grid_search_results.cv_results_\n",
        "\n",
        "        # Perform final cross validation\n",
        "        print('\\t\\tPerforming final cross validation')\n",
        "        best_model = grid_search_results.best_estimator_\n",
        "        cv_results = sklearn.model_selection.cross_validate(best_model, X, y, cv=final_cv_folds)\n",
        "        print(\"\\t\\t{} +/- {}\".format(cv_results['test_score'].mean(), cv_results['test_score'].std()))\n",
        "\n",
        "        # Store the cross validation results\n",
        "        evaluation_results['final_cv_results'] = cv_results\n",
        "        evaluation_results['final_cv_mean'] = cv_results['test_score'].mean()\n",
        "        evaluation_results['final_cv_std_dev'] = cv_results['test_score'].std()\n",
        "\n",
        "        # Add all evaluation details to the evaluation dictionary\n",
        "        model_evaluation_results[model_name] = evaluation_results\n",
        "\n",
        "        with open('evaluation_results_' + time.strftime(\"%Y%m%d_%H%M%S\") + '.data', 'wb') as f:\n",
        "            pickle.dump(model_evaluation_results, f)\n",
        "\n",
        "    data_model_evaluation_results[dataset_name] = model_evaluation_results"
      ]
    },
    {
      "cell_type": "markdown",
      "metadata": {
        "collapsed": true,
        "id": "Xs0H-03ZaxYb"
      },
      "source": [
        "## Comparing Models"
      ]
    },
    {
      "cell_type": "markdown",
      "metadata": {
        "id": "qXUdGBudaxYb"
      },
      "source": [
        "Generate table of model perfomrances form the dictiaonry containing experiment results."
      ]
    },
    {
      "cell_type": "code",
      "execution_count": 76,
      "metadata": {
        "colab": {
          "base_uri": "https://localhost:8080/"
        },
        "id": "g5SzcO_faxYc",
        "outputId": "8427f88f-3c05-4ca6-dabb-92a5688a99dd"
      },
      "outputs": [
        {
          "name": "stdout",
          "output_type": "stream",
          "text": [
            "               decision_tree       knn  naive_bayes   bagging  random_forest\n",
            "Index                                                                       \n",
            "mnist               0.717500  0.919833     0.628833  0.621833       0.822000\n",
            "mnist_fashion       0.743167  0.813000     0.607500  0.626833       0.792833\n",
            "kmnist              0.584333  0.899167     0.529333  0.416333       0.734667\n",
            "berber-mnist        0.698201  0.911444     0.648318  0.542745       0.719534\n"
          ]
        }
      ],
      "source": [
        "data = []\n",
        "for row_key, sub_dict in data_model_evaluation_results.items():\n",
        "    row_data = {\"Index\": row_key}\n",
        "    for col_key, inner_dict in sub_dict.items():\n",
        "        row_data[col_key] = inner_dict.get('final_cv_mean', None)  # Extract the specific value\n",
        "    data.append(row_data)\n",
        "results_df = pd.DataFrame(data).set_index(\"Index\")\n",
        "print(results_df)"
      ]
    },
    {
      "cell_type": "markdown",
      "metadata": {
        "id": "ZQE57lIOaxYc"
      },
      "source": [
        "Convert to ranks."
      ]
    },
    {
      "cell_type": "code",
      "execution_count": 77,
      "metadata": {
        "colab": {
          "base_uri": "https://localhost:8080/"
        },
        "id": "FKZkpGWjaxYc",
        "outputId": "05e2a2f7-6307-4882-a113-b7299dfb2a96"
      },
      "outputs": [
        {
          "name": "stdout",
          "output_type": "stream",
          "text": [
            "               decision_tree  knn  naive_bayes  bagging  random_forest\n",
            "Index                                                                 \n",
            "mnist                    3.0  1.0          4.0      5.0            2.0\n",
            "mnist_fashion            3.0  1.0          5.0      4.0            2.0\n",
            "kmnist                   3.0  1.0          4.0      5.0            2.0\n",
            "berber-mnist             3.0  1.0          4.0      5.0            2.0\n"
          ]
        }
      ],
      "source": [
        "ranks_df = results_df.rank(method=\"min\", ascending=False, axis = 1)\n",
        "print(ranks_df)"
      ]
    },
    {
      "cell_type": "markdown",
      "metadata": {
        "id": "ny249NStaxYc"
      },
      "source": [
        "Perfrom a Friedman test to see if there is a difference in model performances."
      ]
    },
    {
      "cell_type": "code",
      "execution_count": 78,
      "metadata": {
        "colab": {
          "base_uri": "https://localhost:8080/"
        },
        "id": "_L8bonZaaxYc",
        "outputId": "50935384-beb4-4759-cd74-cc5c9d583536"
      },
      "outputs": [
        {
          "data": {
            "text/plain": [
              "0.003939596491115125"
            ]
          },
          "execution_count": 78,
          "metadata": {},
          "output_type": "execute_result"
        }
      ],
      "source": [
        "aeon.benchmarking.stats.check_friedman(ranks_df.values)"
      ]
    },
    {
      "cell_type": "markdown",
      "metadata": {
        "id": "bFBfnFCaaxYc"
      },
      "source": [
        "Perform a Nemenyi test to to see where the differences are."
      ]
    },
    {
      "cell_type": "code",
      "execution_count": 79,
      "metadata": {
        "colab": {
          "base_uri": "https://localhost:8080/"
        },
        "id": "zGpJEXTlaxYc",
        "outputId": "1ec86c2f-bd2a-4ad4-8bc0-39547cc12839"
      },
      "outputs": [
        {
          "name": "stdout",
          "output_type": "stream",
          "text": [
            "decision_tree    3.00\n",
            "knn              1.00\n",
            "naive_bayes      4.25\n",
            "bagging          4.75\n",
            "random_forest    2.00\n",
            "dtype: float64\n"
          ]
        },
        {
          "data": {
            "text/plain": [
              "array([[ True, False,  True,  True, False],\n",
              "       [ True,  True, False, False,  True],\n",
              "       [False, False,  True,  True, False],\n",
              "       [False, False, False,  True, False],\n",
              "       [ True, False,  True,  True,  True]])"
            ]
          },
          "execution_count": 79,
          "metadata": {},
          "output_type": "execute_result"
        }
      ],
      "source": [
        "avg_ranks = np.mean(ranks_df, axis=0)\n",
        "print(avg_ranks)\n",
        "aeon.benchmarking.stats.nemenyi_test(avg_ranks, len(avg_ranks), 0.05)"
      ]
    },
    {
      "cell_type": "markdown",
      "metadata": {
        "id": "u7Iymmf_axYc"
      },
      "source": [
        "Draw a critical differences plot to see where differences between model perfomrance exists."
      ]
    },
    {
      "cell_type": "code",
      "execution_count": 80,
      "metadata": {
        "colab": {
          "base_uri": "https://localhost:8080/"
        },
        "id": "twUYs6ebaxYc",
        "outputId": "a79fdf38-430b-4d80-ee7f-85c8a6071ec6"
      },
      "outputs": [
        {
          "data": {
            "text/plain": [
              "Index(['mnist', 'mnist_fashion', 'kmnist', 'berber-mnist'], dtype='object', name='Index')"
            ]
          },
          "execution_count": 80,
          "metadata": {},
          "output_type": "execute_result"
        }
      ],
      "source": [
        "ranks_df.index"
      ]
    },
    {
      "cell_type": "code",
      "execution_count": 81,
      "metadata": {
        "colab": {
          "base_uri": "https://localhost:8080/",
          "height": 277
        },
        "id": "ZYxuEp6baxYc",
        "outputId": "b5d0f176-b0a3-4ea3-d1e4-18239d126aee"
      },
      "outputs": [
        {
          "data": {
            "image/png": "[encoded data removed]",
            "text/plain": [
              "<Figure size 600x240 with 1 Axes>"
            ]
          },
          "metadata": {},
          "output_type": "display_data"
        }
      ],
      "source": [
        "aeon.visualisation.plot_critical_difference(ranks_df.values,\n",
        "                                            ranks_df.columns,\n",
        "                                            test=\"Nemenyi\")\n",
        "plt.show()"
      ]
    },
    {
      "cell_type": "code",
      "execution_count": 81,
      "metadata": {
        "id": "Y-IiJKn5axYc"
      },
      "outputs": [],
      "source": []
    }
  ],
  "metadata": {
    "colab": {
      "provenance": []
    },
    "kernelspec": {
      "display_name": "Python 3 (ipykernel)",
      "language": "python",
      "name": "python3"
    },
    "language_info": {
      "codemirror_mode": {
        "name": "ipython",
        "version": 3
      },
      "file_extension": ".py",
      "mimetype": "text/x-python",
      "name": "python",
      "nbconvert_exporter": "python",
      "pygments_lexer": "ipython3",
      "version": "3.12.1"
    },
    "toc": {
      "base_numbering": 1,
      "nav_menu": {},
      "number_sections": false,
      "sideBar": true,
      "skip_h1_title": true,
      "title_cell": "Table of Contents",
      "title_sidebar": "Contents",
      "toc_cell": false,
      "toc_position": {
        "height": "328.182px",
        "left": "905px",
        "top": "67.06px",
        "width": "211.996px"
      },
      "toc_section_display": true,
      "toc_window_display": true
    }
  },
  "nbformat": 4,
  "nbformat_minor": 0
}

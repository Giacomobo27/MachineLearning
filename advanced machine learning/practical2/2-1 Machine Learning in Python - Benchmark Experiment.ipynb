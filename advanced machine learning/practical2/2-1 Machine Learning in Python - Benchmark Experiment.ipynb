{
 "cells": [
  {
   "cell_type": "markdown",
   "metadata": {},
   "source": [
    "# COMP47590 Advanced Machine Learning\n",
    "# Pefroming a Machine Learning Benchmarking Experiment in Python"
   ]
  },
  {
   "cell_type": "markdown",
   "metadata": {},
   "source": [
    "## Imports"
   ]
  },
  {
   "cell_type": "markdown",
   "metadata": {},
   "source": [
    "Import the libraries we will use - **aeon** is the new one we use for nice benchmarking imlpementations. "
   ]
  },
  {
   "cell_type": "code",
   "execution_count": null,
   "metadata": {},
   "outputs": [],
   "source": [
    "# If using Google Colab uncomment this line to add the aeon package.\n",
    "#!pip install aeon"
   ]
  },
  {
   "cell_type": "code",
   "execution_count": 1,
   "metadata": {
    "scrolled": true
   },
   "outputs": [],
   "source": [
    "import io\n",
    "import random \n",
    "import time\n",
    "import pickle\n",
    "\n",
    "import pandas as pd # core data handling package\n",
    "import numpy as np # core data handling package\n",
    "import matplotlib # core plotting functioanlity\n",
    "import matplotlib.pyplot as plt\n",
    "%matplotlib inline\n",
    "\n",
    "import seaborn as sns # nicer plotting functionlity\n",
    "\n",
    "import sklearn # For basic machine learning functionality\n",
    "import sklearn.preprocessing\n",
    "import sklearn.metrics\n",
    "import sklearn.model_selection\n",
    "import sklearn.tree\n",
    "import sklearn.ensemble\n",
    "\n",
    "import aeon # time series classification package with nice benchmarking functions\n",
    "import aeon.benchmarking\n",
    "import aeon.benchmarking.stats\n",
    "import aeon.visualisation "
   ]
  },
  {
   "cell_type": "markdown",
   "metadata": {},
   "source": [
    "## Google Colab"
   ]
  },
  {
   "cell_type": "markdown",
   "metadata": {},
   "source": [
    "If using Google Colab comment out code in these cells to mount your Google drive for data access."
   ]
  },
  {
   "cell_type": "code",
   "execution_count": null,
   "metadata": {},
   "outputs": [],
   "source": [
    "#from google.colab import drive\n",
    "#drive.mount('/content/drive')"
   ]
  },
  {
   "cell_type": "markdown",
   "metadata": {},
   "source": [
    "Uncomment this code and change the path to match where you have stored course data"
   ]
  },
  {
   "cell_type": "code",
   "execution_count": null,
   "metadata": {},
   "outputs": [],
   "source": [
    "#%cd /content/drive/MyDrive/Teaching/UCD Advanced Machine Learning/2024-2025/Labs Public/"
   ]
  },
  {
   "cell_type": "markdown",
   "metadata": {},
   "source": [
    "## Setup"
   ]
  },
  {
   "cell_type": "markdown",
   "metadata": {},
   "source": [
    "Take only a sample of the dataset for fast testing"
   ]
  },
  {
   "cell_type": "code",
   "execution_count": 2,
   "metadata": {},
   "outputs": [],
   "source": [
    "data_sampling_rate = 0.1"
   ]
  },
  {
   "cell_type": "markdown",
   "metadata": {},
   "source": [
    "Setup the number of folds for all grid searches (should be 5 - 10)"
   ]
  },
  {
   "cell_type": "code",
   "execution_count": 3,
   "metadata": {},
   "outputs": [],
   "source": [
    "grid_search_cv_folds = 2"
   ]
  },
  {
   "cell_type": "markdown",
   "metadata": {},
   "source": [
    "Setup the number of folds for all grid searches (should be 5 - 10)"
   ]
  },
  {
   "cell_type": "code",
   "execution_count": 4,
   "metadata": {},
   "outputs": [],
   "source": [
    "final_cv_folds = 2"
   ]
  },
  {
   "cell_type": "markdown",
   "metadata": {},
   "source": [
    "Set up a dictionary to store simple model performance comparions"
   ]
  },
  {
   "cell_type": "code",
   "execution_count": 5,
   "metadata": {},
   "outputs": [],
   "source": [
    "model_evaluation_results = dict()"
   ]
  },
  {
   "cell_type": "markdown",
   "metadata": {},
   "source": [
    "### Setup Datasets"
   ]
  },
  {
   "cell_type": "markdown",
   "metadata": {},
   "source": [
    "Set up a dictionary to store details of datasets to be used in the experiment"
   ]
  },
  {
   "cell_type": "code",
   "execution_count": 6,
   "metadata": {},
   "outputs": [],
   "source": [
    "datasets = dict()"
   ]
  },
  {
   "cell_type": "markdown",
   "metadata": {},
   "source": [
    "Load the dataset and explore it."
   ]
  },
  {
   "cell_type": "code",
   "execution_count": 7,
   "metadata": {},
   "outputs": [],
   "source": [
    "dataset_details = dict()\n",
    "dataset_details[\"file_name\"] = '../Data/mnist_train.csv'\n",
    "dataset_details[\"target_feature\"] = \"label\"\n",
    "dataset_details[\"num_classes\"] = 10\n",
    "dataset_details[\"classes\"] = {0: \"0\", 1:\"1\", 2: \"2\", 3:\"3\", 4:\"4\", 5:\"5\", 6:\"6\", 7:\"7\", 8:\"8\", 9:\"9\"}\n",
    "datasets[\"mnist\"] = dataset_details"
   ]
  },
  {
   "cell_type": "code",
   "execution_count": 8,
   "metadata": {},
   "outputs": [],
   "source": [
    "dataset_details = dict()\n",
    "dataset_details[\"file_name\"] = '../Data/fashion-mnist_train.csv'\n",
    "dataset_details[\"target_feature\"] = \"label\"\n",
    "dataset_details[\"num_classes\"] = 10\n",
    "dataset_details[\"classes\"] = {0: \"T-shirt/top\", 1:\"Trouser\", 2: \"Pullover\", 3:\"Dress\", 4:\"Coat\", 5:\"Sandal\", 6:\"Shirt\", 7:\"Sneaker\", 8:\"Bag\", 9:\"Ankle boot\"}\n",
    "datasets[\"mnist_fashion\"] = dataset_details"
   ]
  },
  {
   "cell_type": "code",
   "execution_count": 9,
   "metadata": {},
   "outputs": [],
   "source": [
    "dataset_details = dict()\n",
    "dataset_details[\"file_name\"] = '../Data/kmnist.csv'\n",
    "dataset_details[\"target_feature\"] = \"label\"\n",
    "dataset_details[\"num_classes\"] = 10\n",
    "dataset_details[\"classes\"] = {0: \"0\", 1:\"1\", 2: \"2\", 3:\"3\", 4:\"4\", 5:\"5\", 6:\"6\", 7:\"7\", 8:\"8\", 9:\"9\"}\n",
    "datasets[\"kmnist\"] = dataset_details"
   ]
  },
  {
   "cell_type": "markdown",
   "metadata": {},
   "source": [
    "### Setup Models"
   ]
  },
  {
   "cell_type": "markdown",
   "metadata": {},
   "source": [
    "Setup a dictioanry of models and hyper-parramtee training details that will be evaluated. "
   ]
  },
  {
   "cell_type": "code",
   "execution_count": 10,
   "metadata": {},
   "outputs": [],
   "source": [
    "models = dict()"
   ]
  },
  {
   "cell_type": "markdown",
   "metadata": {},
   "source": [
    "Decision Tree"
   ]
  },
  {
   "cell_type": "code",
   "execution_count": 11,
   "metadata": {},
   "outputs": [],
   "source": [
    "model_details = dict()\n",
    "model_details['base_model'] = sklearn.tree.DecisionTreeClassifier()\n",
    "model_details['param_grid'] ={'criterion': ['gini', \"entropy\"], \n",
    "                              'max_depth': list(range(3, 50, 3)), \n",
    "                              'min_samples_split': [50]}\n",
    "models['decision_tree'] = model_details"
   ]
  },
  {
   "cell_type": "markdown",
   "metadata": {},
   "source": [
    "Bagging"
   ]
  },
  {
   "cell_type": "code",
   "execution_count": 12,
   "metadata": {},
   "outputs": [],
   "source": [
    "model_details = dict()\n",
    "model_details['base_model'] = sklearn.ensemble.BaggingClassifier(estimator = sklearn.tree.DecisionTreeClassifier(criterion=\"entropy\", max_depth = 6, min_samples_leaf = 200))\n",
    "model_details['param_grid'] ={'n_estimators': list(range(50, 501, 50))}\n",
    "models['bagging'] = model_details"
   ]
  },
  {
   "cell_type": "markdown",
   "metadata": {},
   "source": [
    "Gradient Boosting"
   ]
  },
  {
   "cell_type": "code",
   "execution_count": 13,
   "metadata": {},
   "outputs": [],
   "source": [
    "#model_details = dict()\n",
    "#model_details['base_model'] = sklearn.ensemble.GradientBoostingClassifier(max_depth = 3)\n",
    "#model_details['param_grid'] = {'n_estimators': list(range(50, 501, 100)),\n",
    "#                               'learning_rate': [0.001, 0.01, 0.1]}\n",
    "#models['gradient_boosting'] = model_details"
   ]
  },
  {
   "cell_type": "markdown",
   "metadata": {},
   "source": [
    "Random Forest"
   ]
  },
  {
   "cell_type": "code",
   "execution_count": 14,
   "metadata": {},
   "outputs": [],
   "source": [
    "model_details = dict()\n",
    "model_details['base_model'] = sklearn.ensemble.RandomForestClassifier(min_samples_split=200)\n",
    "model_details['param_grid'] = {'n_estimators': list(range(50, 501, 100)),\n",
    "                               'max_features': list(range(2, 10, 2))}\n",
    "models['random_forest'] = model_details"
   ]
  },
  {
   "cell_type": "markdown",
   "metadata": {},
   "source": [
    "## Experiment Loop"
   ]
  },
  {
   "cell_type": "markdown",
   "metadata": {},
   "source": [
    "Iterate through each dataset and then for each model. For exach combination perfomr a hyper-parameter tuning grid search and a final cross validation experiment."
   ]
  },
  {
   "cell_type": "code",
   "execution_count": 15,
   "metadata": {},
   "outputs": [
    {
     "name": "stdout",
     "output_type": "stream",
     "text": [
      "mnist\n",
      "\tdecision_tree\n",
      "\t\tPerforming grid search\n",
      "Fitting 2 folds for each of 32 candidates, totalling 64 fits\n",
      "\t\tBest Parameters: {'criterion': 'entropy', 'max_depth': 45, 'min_samples_split': 50}\n",
      "\t\tPerforming final cross validation\n",
      "\t\t0.7276666666666667 +/- 0.0026666666666666505\n",
      "\tbagging\n",
      "\t\tPerforming grid search\n",
      "Fitting 2 folds for each of 10 candidates, totalling 20 fits\n",
      "\t\tBest Parameters: {'n_estimators': 150}\n",
      "\t\tPerforming final cross validation\n",
      "\t\t0.5880000000000001 +/- 0.02466666666666667\n",
      "\trandom_forest\n",
      "\t\tPerforming grid search\n",
      "Fitting 2 folds for each of 20 candidates, totalling 40 fits\n",
      "\t\tBest Parameters: {'max_features': 8, 'n_estimators': 250}\n",
      "\t\tPerforming final cross validation\n",
      "\t\t0.8341666666666667 +/- 0.004166666666666707\n",
      "mnist_fashion\n",
      "\tdecision_tree\n",
      "\t\tPerforming grid search\n",
      "Fitting 2 folds for each of 32 candidates, totalling 64 fits\n",
      "\t\tBest Parameters: {'criterion': 'gini', 'max_depth': 9, 'min_samples_split': 50}\n",
      "\t\tPerforming final cross validation\n",
      "\t\t0.7216666666666667 +/- 0.0013333333333332975\n",
      "\tbagging\n",
      "\t\tPerforming grid search\n",
      "Fitting 2 folds for each of 10 candidates, totalling 20 fits\n",
      "\t\tBest Parameters: {'n_estimators': 300}\n",
      "\t\tPerforming final cross validation\n",
      "\t\t0.6301666666666667 +/- 0.005166666666666653\n",
      "\trandom_forest\n",
      "\t\tPerforming grid search\n",
      "Fitting 2 folds for each of 20 candidates, totalling 40 fits\n",
      "\t\tBest Parameters: {'max_features': 4, 'n_estimators': 450}\n",
      "\t\tPerforming final cross validation\n",
      "\t\t0.7733333333333334 +/- 0.007666666666666655\n",
      "kmnist\n",
      "\tdecision_tree\n",
      "\t\tPerforming grid search\n",
      "Fitting 2 folds for each of 32 candidates, totalling 64 fits\n",
      "\t\tBest Parameters: {'criterion': 'entropy', 'max_depth': 36, 'min_samples_split': 50}\n",
      "\t\tPerforming final cross validation\n",
      "\t\t0.5948333333333333 +/- 0.006833333333333358\n",
      "\tbagging\n",
      "\t\tPerforming grid search\n",
      "Fitting 2 folds for each of 10 candidates, totalling 20 fits\n",
      "\t\tBest Parameters: {'n_estimators': 200}\n",
      "\t\tPerforming final cross validation\n",
      "\t\t0.3846666666666667 +/- 0.0013333333333333253\n",
      "\trandom_forest\n",
      "\t\tPerforming grid search\n",
      "Fitting 2 folds for each of 20 candidates, totalling 40 fits\n",
      "\t\tBest Parameters: {'max_features': 2, 'n_estimators': 450}\n",
      "\t\tPerforming final cross validation\n",
      "\t\t0.7326666666666667 +/- 0.0010000000000000009\n"
     ]
    }
   ],
   "source": [
    "data_model_evaluation_results = dict()\n",
    "\n",
    "for dataset_name in datasets:\n",
    "\n",
    "    print(dataset_name)\n",
    "\n",
    "    dataset_details = datasets[dataset_name]\n",
    "    \n",
    "    file_name = dataset_details[\"file_name\"]\n",
    "    target_feature = dataset_details[\"target_feature\"]\n",
    "    num_classes = dataset_details[\"num_classes\"]\n",
    "    classes = dataset_details[\"classes\"] \n",
    "\n",
    "    dataset = pd.read_csv(file_name)\n",
    "    dataset = dataset.sample(frac=data_sampling_rate) #take a sample from the dataset so everything runs smoothly\n",
    "\n",
    "    X = dataset.loc[:, dataset.columns != target_feature]\n",
    "    y = dataset[target_feature]\n",
    "\n",
    "    model_evaluation_results = dict()\n",
    "    \n",
    "    for model_name in models:\n",
    "\n",
    "        print(\"\\t{}\".format(model_name))\n",
    "\n",
    "        model_details = models[model_name]\n",
    "        \n",
    "        evaluation_results = dict()\n",
    "\n",
    "        # Perform a grid search\n",
    "        print('\\t\\tPerforming grid search')\n",
    "        grid_search_results = sklearn.model_selection.GridSearchCV(model_details['base_model'], \n",
    "                                                                   model_details['param_grid'], \n",
    "                                                                   cv=grid_search_cv_folds, verbose = 1, \n",
    "                                                                   n_jobs = -1)\n",
    "        grid_search_results.fit(X, y)\n",
    "        print(\"\\t\\tBest Parameters: {}\".format(grid_search_results.best_params_))\n",
    "        \n",
    "        # Store the grid search results\n",
    "        evaluation_results['best_params'] = grid_search_results.best_params_\n",
    "        evaluation_results['best_score'] = grid_search_results.best_score_\n",
    "        evaluation_results['cv_results'] = grid_search_results.cv_results_\n",
    "\n",
    "        # Perform final cross validation\n",
    "        print('\\t\\tPerforming final cross validation')\n",
    "        best_model = grid_search_results.best_estimator_ \n",
    "        cv_results = sklearn.model_selection.cross_validate(best_model, X, y, cv=final_cv_folds)\n",
    "        print(\"\\t\\t{} +/- {}\".format(cv_results['test_score'].mean(), cv_results['test_score'].std()))\n",
    "        \n",
    "        # Store the cross validation results\n",
    "        evaluation_results['final_cv_results'] = cv_results\n",
    "        evaluation_results['final_cv_mean'] = cv_results['test_score'].mean()\n",
    "        evaluation_results['final_cv_std_dev'] = cv_results['test_score'].std()\n",
    "\n",
    "        # Add all evaluation details to the evaluation dictionary\n",
    "        model_evaluation_results[model_name] = evaluation_results\n",
    "\n",
    "        with open('evaluation_results_' + time.strftime(\"%Y%m%d_%H%M%S\") + '.data', 'wb') as f:\n",
    "            pickle.dump(model_evaluation_results, f)\n",
    "\n",
    "    data_model_evaluation_results[dataset_name] = model_evaluation_results"
   ]
  },
  {
   "cell_type": "markdown",
   "metadata": {
    "collapsed": true,
    "jupyter": {
     "outputs_hidden": true
    }
   },
   "source": [
    "## Comparing Models"
   ]
  },
  {
   "cell_type": "markdown",
   "metadata": {},
   "source": [
    "Generate table of model perfomrances form the dictiaonry containing experiment results."
   ]
  },
  {
   "cell_type": "code",
   "execution_count": 16,
   "metadata": {},
   "outputs": [
    {
     "name": "stdout",
     "output_type": "stream",
     "text": [
      "               decision_tree   bagging  random_forest\n",
      "Index                                                \n",
      "mnist               0.727667  0.588000       0.834167\n",
      "mnist_fashion       0.721667  0.630167       0.773333\n",
      "kmnist              0.594833  0.384667       0.732667\n"
     ]
    }
   ],
   "source": [
    "data = []\n",
    "for row_key, sub_dict in data_model_evaluation_results.items():\n",
    "    row_data = {\"Index\": row_key}\n",
    "    for col_key, inner_dict in sub_dict.items():\n",
    "        row_data[col_key] = inner_dict.get('final_cv_mean', None)  # Extract the specific value\n",
    "    data.append(row_data)\n",
    "results_df = pd.DataFrame(data).set_index(\"Index\")\n",
    "print(results_df)"
   ]
  },
  {
   "cell_type": "markdown",
   "metadata": {},
   "source": [
    "Convert to ranks."
   ]
  },
  {
   "cell_type": "code",
   "execution_count": 31,
   "metadata": {},
   "outputs": [
    {
     "name": "stdout",
     "output_type": "stream",
     "text": [
      "               decision_tree  bagging  random_forest\n",
      "Index                                               \n",
      "mnist                    2.0      3.0            1.0\n",
      "mnist_fashion            2.0      3.0            1.0\n",
      "kmnist                   2.0      3.0            1.0\n"
     ]
    }
   ],
   "source": [
    "ranks_df = results_df.rank(method=\"min\", ascending=False, axis = 1)\n",
    "print(ranks_df)"
   ]
  },
  {
   "cell_type": "markdown",
   "metadata": {},
   "source": [
    "Perfrom a Friedman test to see if there is a difference in model performances."
   ]
  },
  {
   "cell_type": "code",
   "execution_count": 32,
   "metadata": {},
   "outputs": [
    {
     "data": {
      "text/plain": [
       "0.04978706836786395"
      ]
     },
     "execution_count": 32,
     "metadata": {},
     "output_type": "execute_result"
    }
   ],
   "source": [
    "aeon.benchmarking.stats.check_friedman(ranks_df.values)"
   ]
  },
  {
   "cell_type": "markdown",
   "metadata": {},
   "source": [
    "Perform a Nemenyi test to to see where the differences are."
   ]
  },
  {
   "cell_type": "code",
   "execution_count": 34,
   "metadata": {},
   "outputs": [
    {
     "name": "stdout",
     "output_type": "stream",
     "text": [
      "decision_tree    2.0\n",
      "bagging          3.0\n",
      "random_forest    1.0\n",
      "dtype: float64\n"
     ]
    },
    {
     "data": {
      "text/plain": [
       "array([[ True,  True, False],\n",
       "       [False,  True, False],\n",
       "       [ True,  True,  True]])"
      ]
     },
     "execution_count": 34,
     "metadata": {},
     "output_type": "execute_result"
    }
   ],
   "source": [
    "avg_ranks = np.mean(ranks_df, axis=0)\n",
    "print(avg_ranks)\n",
    "aeon.benchmarking.stats.nemenyi_test(avg_ranks, len(avg_ranks), 0.05)"
   ]
  },
  {
   "cell_type": "markdown",
   "metadata": {},
   "source": [
    "Draw a critical differences plot to see where differences between model perfomrance exists. "
   ]
  },
  {
   "cell_type": "code",
   "execution_count": 35,
   "metadata": {},
   "outputs": [
    {
     "data": {
      "text/plain": [
       "Index(['mnist', 'mnist_fashion', 'kmnist'], dtype='object', name='Index')"
      ]
     },
     "execution_count": 35,
     "metadata": {},
     "output_type": "execute_result"
    }
   ],
   "source": [
    "ranks_df.index"
   ]
  },
  {
   "cell_type": "code",
   "execution_count": 37,
   "metadata": {},
   "outputs": [
    {
     "data": {
      "image/png": "[encoded data removed]",
      "text/plain": [
       "<Figure size 600x220 with 1 Axes>"
      ]
     },
     "metadata": {},
     "output_type": "display_data"
    }
   ],
   "source": [
    "aeon.visualisation.plot_critical_difference(ranks_df.values, \n",
    "                                            ranks_df.columns, \n",
    "                                            test=\"Nemenyi\")\n",
    "plt.show()"
   ]
  },
  {
   "cell_type": "code",
   "execution_count": null,
   "metadata": {},
   "outputs": [],
   "source": []
  }
 ],
 "metadata": {
  "kernelspec": {
   "display_name": "Python 3 (ipykernel)",
   "language": "python",
   "name": "python3"
  },
  "language_info": {
   "codemirror_mode": {
    "name": "ipython",
    "version": 3
   },
   "file_extension": ".py",
   "mimetype": "text/x-python",
   "name": "python",
   "nbconvert_exporter": "python",
   "pygments_lexer": "ipython3",
   "version": "3.12.1"
  },
  "toc": {
   "base_numbering": 1,
   "nav_menu": {},
   "number_sections": false,
   "sideBar": true,
   "skip_h1_title": true,
   "title_cell": "Table of Contents",
   "title_sidebar": "Contents",
   "toc_cell": false,
   "toc_position": {
    "height": "328.182px",
    "left": "905px",
    "top": "67.06px",
    "width": "211.996px"
   },
   "toc_section_display": true,
   "toc_window_display": true
  }
 },
 "nbformat": 4,
 "nbformat_minor": 4
}
